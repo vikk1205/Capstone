{
 "cells": [
  {
   "cell_type": "markdown",
   "metadata": {},
   "source": [
    "### Census Dataset - United States(1994-1995)"
   ]
  },
  {
   "cell_type": "code",
   "execution_count": 168,
   "metadata": {},
   "outputs": [],
   "source": [
    "import numpy as np\n",
    "import pandas as pd\n",
    "import warnings\n",
    "warnings.filterwarnings(\"ignore\")"
   ]
  },
  {
   "cell_type": "markdown",
   "metadata": {},
   "source": [
    "### Exploratory Data Analysis"
   ]
  },
  {
   "cell_type": "code",
   "execution_count": 169,
   "metadata": {},
   "outputs": [],
   "source": [
    "# IMPORTING DATASET\n",
    "pd.set_option('display.max_columns', None)"
   ]
  },
  {
   "cell_type": "code",
   "execution_count": 170,
   "metadata": {},
   "outputs": [],
   "source": [
    "census=pd.read_table('census-income.data',sep=',',header=None)"
   ]
  },
  {
   "cell_type": "code",
   "execution_count": 171,
   "metadata": {},
   "outputs": [
    {
     "data": {
      "text/html": [
       "<div>\n",
       "<style scoped>\n",
       "    .dataframe tbody tr th:only-of-type {\n",
       "        vertical-align: middle;\n",
       "    }\n",
       "\n",
       "    .dataframe tbody tr th {\n",
       "        vertical-align: top;\n",
       "    }\n",
       "\n",
       "    .dataframe thead th {\n",
       "        text-align: right;\n",
       "    }\n",
       "</style>\n",
       "<table border=\"1\" class=\"dataframe\">\n",
       "  <thead>\n",
       "    <tr style=\"text-align: right;\">\n",
       "      <th></th>\n",
       "      <th>0</th>\n",
       "      <th>1</th>\n",
       "      <th>2</th>\n",
       "      <th>3</th>\n",
       "      <th>4</th>\n",
       "      <th>5</th>\n",
       "      <th>6</th>\n",
       "      <th>7</th>\n",
       "      <th>8</th>\n",
       "      <th>9</th>\n",
       "      <th>10</th>\n",
       "      <th>11</th>\n",
       "      <th>12</th>\n",
       "      <th>13</th>\n",
       "      <th>14</th>\n",
       "      <th>15</th>\n",
       "      <th>16</th>\n",
       "      <th>17</th>\n",
       "      <th>18</th>\n",
       "      <th>19</th>\n",
       "      <th>20</th>\n",
       "      <th>21</th>\n",
       "      <th>22</th>\n",
       "      <th>23</th>\n",
       "      <th>24</th>\n",
       "      <th>25</th>\n",
       "      <th>26</th>\n",
       "      <th>27</th>\n",
       "      <th>28</th>\n",
       "      <th>29</th>\n",
       "      <th>30</th>\n",
       "      <th>31</th>\n",
       "      <th>32</th>\n",
       "      <th>33</th>\n",
       "      <th>34</th>\n",
       "      <th>35</th>\n",
       "      <th>36</th>\n",
       "      <th>37</th>\n",
       "      <th>38</th>\n",
       "      <th>39</th>\n",
       "      <th>40</th>\n",
       "      <th>41</th>\n",
       "    </tr>\n",
       "  </thead>\n",
       "  <tbody>\n",
       "    <tr>\n",
       "      <th>0</th>\n",
       "      <td>73</td>\n",
       "      <td>Not in universe</td>\n",
       "      <td>0</td>\n",
       "      <td>0</td>\n",
       "      <td>High school graduate</td>\n",
       "      <td>0</td>\n",
       "      <td>Not in universe</td>\n",
       "      <td>Widowed</td>\n",
       "      <td>Not in universe or children</td>\n",
       "      <td>Not in universe</td>\n",
       "      <td>White</td>\n",
       "      <td>All other</td>\n",
       "      <td>Female</td>\n",
       "      <td>Not in universe</td>\n",
       "      <td>Not in universe</td>\n",
       "      <td>Not in labor force</td>\n",
       "      <td>0</td>\n",
       "      <td>0</td>\n",
       "      <td>0</td>\n",
       "      <td>Nonfiler</td>\n",
       "      <td>Not in universe</td>\n",
       "      <td>Not in universe</td>\n",
       "      <td>Other Rel 18+ ever marr not in subfamily</td>\n",
       "      <td>Other relative of householder</td>\n",
       "      <td>1700.09</td>\n",
       "      <td>?</td>\n",
       "      <td>?</td>\n",
       "      <td>?</td>\n",
       "      <td>Not in universe under 1 year old</td>\n",
       "      <td>?</td>\n",
       "      <td>0</td>\n",
       "      <td>Not in universe</td>\n",
       "      <td>United-States</td>\n",
       "      <td>United-States</td>\n",
       "      <td>United-States</td>\n",
       "      <td>Native- Born in the United States</td>\n",
       "      <td>0</td>\n",
       "      <td>Not in universe</td>\n",
       "      <td>2</td>\n",
       "      <td>0</td>\n",
       "      <td>95</td>\n",
       "      <td>- 50000.</td>\n",
       "    </tr>\n",
       "    <tr>\n",
       "      <th>1</th>\n",
       "      <td>58</td>\n",
       "      <td>Self-employed-not incorporated</td>\n",
       "      <td>4</td>\n",
       "      <td>34</td>\n",
       "      <td>Some college but no degree</td>\n",
       "      <td>0</td>\n",
       "      <td>Not in universe</td>\n",
       "      <td>Divorced</td>\n",
       "      <td>Construction</td>\n",
       "      <td>Precision production craft &amp; repair</td>\n",
       "      <td>White</td>\n",
       "      <td>All other</td>\n",
       "      <td>Male</td>\n",
       "      <td>Not in universe</td>\n",
       "      <td>Not in universe</td>\n",
       "      <td>Children or Armed Forces</td>\n",
       "      <td>0</td>\n",
       "      <td>0</td>\n",
       "      <td>0</td>\n",
       "      <td>Head of household</td>\n",
       "      <td>South</td>\n",
       "      <td>Arkansas</td>\n",
       "      <td>Householder</td>\n",
       "      <td>Householder</td>\n",
       "      <td>1053.55</td>\n",
       "      <td>MSA to MSA</td>\n",
       "      <td>Same county</td>\n",
       "      <td>Same county</td>\n",
       "      <td>No</td>\n",
       "      <td>Yes</td>\n",
       "      <td>1</td>\n",
       "      <td>Not in universe</td>\n",
       "      <td>United-States</td>\n",
       "      <td>United-States</td>\n",
       "      <td>United-States</td>\n",
       "      <td>Native- Born in the United States</td>\n",
       "      <td>0</td>\n",
       "      <td>Not in universe</td>\n",
       "      <td>2</td>\n",
       "      <td>52</td>\n",
       "      <td>94</td>\n",
       "      <td>- 50000.</td>\n",
       "    </tr>\n",
       "    <tr>\n",
       "      <th>2</th>\n",
       "      <td>18</td>\n",
       "      <td>Not in universe</td>\n",
       "      <td>0</td>\n",
       "      <td>0</td>\n",
       "      <td>10th grade</td>\n",
       "      <td>0</td>\n",
       "      <td>High school</td>\n",
       "      <td>Never married</td>\n",
       "      <td>Not in universe or children</td>\n",
       "      <td>Not in universe</td>\n",
       "      <td>Asian or Pacific Islander</td>\n",
       "      <td>All other</td>\n",
       "      <td>Female</td>\n",
       "      <td>Not in universe</td>\n",
       "      <td>Not in universe</td>\n",
       "      <td>Not in labor force</td>\n",
       "      <td>0</td>\n",
       "      <td>0</td>\n",
       "      <td>0</td>\n",
       "      <td>Nonfiler</td>\n",
       "      <td>Not in universe</td>\n",
       "      <td>Not in universe</td>\n",
       "      <td>Child 18+ never marr Not in a subfamily</td>\n",
       "      <td>Child 18 or older</td>\n",
       "      <td>991.95</td>\n",
       "      <td>?</td>\n",
       "      <td>?</td>\n",
       "      <td>?</td>\n",
       "      <td>Not in universe under 1 year old</td>\n",
       "      <td>?</td>\n",
       "      <td>0</td>\n",
       "      <td>Not in universe</td>\n",
       "      <td>Vietnam</td>\n",
       "      <td>Vietnam</td>\n",
       "      <td>Vietnam</td>\n",
       "      <td>Foreign born- Not a citizen of U S</td>\n",
       "      <td>0</td>\n",
       "      <td>Not in universe</td>\n",
       "      <td>2</td>\n",
       "      <td>0</td>\n",
       "      <td>95</td>\n",
       "      <td>- 50000.</td>\n",
       "    </tr>\n",
       "    <tr>\n",
       "      <th>3</th>\n",
       "      <td>9</td>\n",
       "      <td>Not in universe</td>\n",
       "      <td>0</td>\n",
       "      <td>0</td>\n",
       "      <td>Children</td>\n",
       "      <td>0</td>\n",
       "      <td>Not in universe</td>\n",
       "      <td>Never married</td>\n",
       "      <td>Not in universe or children</td>\n",
       "      <td>Not in universe</td>\n",
       "      <td>White</td>\n",
       "      <td>All other</td>\n",
       "      <td>Female</td>\n",
       "      <td>Not in universe</td>\n",
       "      <td>Not in universe</td>\n",
       "      <td>Children or Armed Forces</td>\n",
       "      <td>0</td>\n",
       "      <td>0</td>\n",
       "      <td>0</td>\n",
       "      <td>Nonfiler</td>\n",
       "      <td>Not in universe</td>\n",
       "      <td>Not in universe</td>\n",
       "      <td>Child &lt;18 never marr not in subfamily</td>\n",
       "      <td>Child under 18 never married</td>\n",
       "      <td>1758.14</td>\n",
       "      <td>Nonmover</td>\n",
       "      <td>Nonmover</td>\n",
       "      <td>Nonmover</td>\n",
       "      <td>Yes</td>\n",
       "      <td>Not in universe</td>\n",
       "      <td>0</td>\n",
       "      <td>Both parents present</td>\n",
       "      <td>United-States</td>\n",
       "      <td>United-States</td>\n",
       "      <td>United-States</td>\n",
       "      <td>Native- Born in the United States</td>\n",
       "      <td>0</td>\n",
       "      <td>Not in universe</td>\n",
       "      <td>0</td>\n",
       "      <td>0</td>\n",
       "      <td>94</td>\n",
       "      <td>- 50000.</td>\n",
       "    </tr>\n",
       "    <tr>\n",
       "      <th>4</th>\n",
       "      <td>10</td>\n",
       "      <td>Not in universe</td>\n",
       "      <td>0</td>\n",
       "      <td>0</td>\n",
       "      <td>Children</td>\n",
       "      <td>0</td>\n",
       "      <td>Not in universe</td>\n",
       "      <td>Never married</td>\n",
       "      <td>Not in universe or children</td>\n",
       "      <td>Not in universe</td>\n",
       "      <td>White</td>\n",
       "      <td>All other</td>\n",
       "      <td>Female</td>\n",
       "      <td>Not in universe</td>\n",
       "      <td>Not in universe</td>\n",
       "      <td>Children or Armed Forces</td>\n",
       "      <td>0</td>\n",
       "      <td>0</td>\n",
       "      <td>0</td>\n",
       "      <td>Nonfiler</td>\n",
       "      <td>Not in universe</td>\n",
       "      <td>Not in universe</td>\n",
       "      <td>Child &lt;18 never marr not in subfamily</td>\n",
       "      <td>Child under 18 never married</td>\n",
       "      <td>1069.16</td>\n",
       "      <td>Nonmover</td>\n",
       "      <td>Nonmover</td>\n",
       "      <td>Nonmover</td>\n",
       "      <td>Yes</td>\n",
       "      <td>Not in universe</td>\n",
       "      <td>0</td>\n",
       "      <td>Both parents present</td>\n",
       "      <td>United-States</td>\n",
       "      <td>United-States</td>\n",
       "      <td>United-States</td>\n",
       "      <td>Native- Born in the United States</td>\n",
       "      <td>0</td>\n",
       "      <td>Not in universe</td>\n",
       "      <td>0</td>\n",
       "      <td>0</td>\n",
       "      <td>94</td>\n",
       "      <td>- 50000.</td>\n",
       "    </tr>\n",
       "  </tbody>\n",
       "</table>\n",
       "</div>"
      ],
      "text/plain": [
       "   0                                1   2   3                            4   \\\n",
       "0  73                  Not in universe   0   0         High school graduate   \n",
       "1  58   Self-employed-not incorporated   4  34   Some college but no degree   \n",
       "2  18                  Not in universe   0   0                   10th grade   \n",
       "3   9                  Not in universe   0   0                     Children   \n",
       "4  10                  Not in universe   0   0                     Children   \n",
       "\n",
       "   5                 6               7                             8   \\\n",
       "0   0   Not in universe         Widowed   Not in universe or children   \n",
       "1   0   Not in universe        Divorced                  Construction   \n",
       "2   0       High school   Never married   Not in universe or children   \n",
       "3   0   Not in universe   Never married   Not in universe or children   \n",
       "4   0   Not in universe   Never married   Not in universe or children   \n",
       "\n",
       "                                     9                           10  \\\n",
       "0                       Not in universe                       White   \n",
       "1   Precision production craft & repair                       White   \n",
       "2                       Not in universe   Asian or Pacific Islander   \n",
       "3                       Not in universe                       White   \n",
       "4                       Not in universe                       White   \n",
       "\n",
       "           11       12                13                14  \\\n",
       "0   All other   Female   Not in universe   Not in universe   \n",
       "1   All other     Male   Not in universe   Not in universe   \n",
       "2   All other   Female   Not in universe   Not in universe   \n",
       "3   All other   Female   Not in universe   Not in universe   \n",
       "4   All other   Female   Not in universe   Not in universe   \n",
       "\n",
       "                          15  16  17  18                  19  \\\n",
       "0         Not in labor force   0   0   0            Nonfiler   \n",
       "1   Children or Armed Forces   0   0   0   Head of household   \n",
       "2         Not in labor force   0   0   0            Nonfiler   \n",
       "3   Children or Armed Forces   0   0   0            Nonfiler   \n",
       "4   Children or Armed Forces   0   0   0            Nonfiler   \n",
       "\n",
       "                 20                21  \\\n",
       "0   Not in universe   Not in universe   \n",
       "1             South          Arkansas   \n",
       "2   Not in universe   Not in universe   \n",
       "3   Not in universe   Not in universe   \n",
       "4   Not in universe   Not in universe   \n",
       "\n",
       "                                          22                              23  \\\n",
       "0   Other Rel 18+ ever marr not in subfamily   Other relative of householder   \n",
       "1                                Householder                     Householder   \n",
       "2    Child 18+ never marr Not in a subfamily               Child 18 or older   \n",
       "3      Child <18 never marr not in subfamily    Child under 18 never married   \n",
       "4      Child <18 never marr not in subfamily    Child under 18 never married   \n",
       "\n",
       "        24           25            26            27  \\\n",
       "0  1700.09            ?             ?             ?   \n",
       "1  1053.55   MSA to MSA   Same county   Same county   \n",
       "2   991.95            ?             ?             ?   \n",
       "3  1758.14     Nonmover      Nonmover      Nonmover   \n",
       "4  1069.16     Nonmover      Nonmover      Nonmover   \n",
       "\n",
       "                                  28                29  30  \\\n",
       "0   Not in universe under 1 year old                 ?   0   \n",
       "1                                 No               Yes   1   \n",
       "2   Not in universe under 1 year old                 ?   0   \n",
       "3                                Yes   Not in universe   0   \n",
       "4                                Yes   Not in universe   0   \n",
       "\n",
       "                      31              32              33              34  \\\n",
       "0        Not in universe   United-States   United-States   United-States   \n",
       "1        Not in universe   United-States   United-States   United-States   \n",
       "2        Not in universe         Vietnam         Vietnam         Vietnam   \n",
       "3   Both parents present   United-States   United-States   United-States   \n",
       "4   Both parents present   United-States   United-States   United-States   \n",
       "\n",
       "                                     35  36                37  38  39  40  \\\n",
       "0     Native- Born in the United States   0   Not in universe   2   0  95   \n",
       "1     Native- Born in the United States   0   Not in universe   2  52  94   \n",
       "2   Foreign born- Not a citizen of U S    0   Not in universe   2   0  95   \n",
       "3     Native- Born in the United States   0   Not in universe   0   0  94   \n",
       "4     Native- Born in the United States   0   Not in universe   0   0  94   \n",
       "\n",
       "          41  \n",
       "0   - 50000.  \n",
       "1   - 50000.  \n",
       "2   - 50000.  \n",
       "3   - 50000.  \n",
       "4   - 50000.  "
      ]
     },
     "execution_count": 171,
     "metadata": {},
     "output_type": "execute_result"
    }
   ],
   "source": [
    "census.head()"
   ]
  },
  {
   "cell_type": "code",
   "execution_count": 172,
   "metadata": {},
   "outputs": [
    {
     "data": {
      "text/plain": [
       "(199523, 42)"
      ]
     },
     "execution_count": 172,
     "metadata": {},
     "output_type": "execute_result"
    }
   ],
   "source": [
    "census.shape"
   ]
  },
  {
   "cell_type": "code",
   "execution_count": 173,
   "metadata": {
    "scrolled": true
   },
   "outputs": [
    {
     "name": "stdout",
     "output_type": "stream",
     "text": [
      "<class 'pandas.core.frame.DataFrame'>\n",
      "RangeIndex: 199523 entries, 0 to 199522\n",
      "Data columns (total 42 columns):\n",
      "0     199523 non-null int64\n",
      "1     199523 non-null object\n",
      "2     199523 non-null int64\n",
      "3     199523 non-null int64\n",
      "4     199523 non-null object\n",
      "5     199523 non-null int64\n",
      "6     199523 non-null object\n",
      "7     199523 non-null object\n",
      "8     199523 non-null object\n",
      "9     199523 non-null object\n",
      "10    199523 non-null object\n",
      "11    199523 non-null object\n",
      "12    199523 non-null object\n",
      "13    199523 non-null object\n",
      "14    199523 non-null object\n",
      "15    199523 non-null object\n",
      "16    199523 non-null int64\n",
      "17    199523 non-null int64\n",
      "18    199523 non-null int64\n",
      "19    199523 non-null object\n",
      "20    199523 non-null object\n",
      "21    199523 non-null object\n",
      "22    199523 non-null object\n",
      "23    199523 non-null object\n",
      "24    199523 non-null float64\n",
      "25    199523 non-null object\n",
      "26    199523 non-null object\n",
      "27    199523 non-null object\n",
      "28    199523 non-null object\n",
      "29    199523 non-null object\n",
      "30    199523 non-null int64\n",
      "31    199523 non-null object\n",
      "32    199523 non-null object\n",
      "33    199523 non-null object\n",
      "34    199523 non-null object\n",
      "35    199523 non-null object\n",
      "36    199523 non-null int64\n",
      "37    199523 non-null object\n",
      "38    199523 non-null int64\n",
      "39    199523 non-null int64\n",
      "40    199523 non-null int64\n",
      "41    199523 non-null object\n",
      "dtypes: float64(1), int64(12), object(29)\n",
      "memory usage: 63.9+ MB\n"
     ]
    }
   ],
   "source": [
    "census.info()"
   ]
  },
  {
   "cell_type": "markdown",
   "metadata": {},
   "source": [
    "##### PLACING COLUMN HEADERS"
   ]
  },
  {
   "cell_type": "markdown",
   "metadata": {},
   "source": [
    "#Information about the columns\n",
    "\n",
    "1. age: continuous.\n",
    "2. class of worker: Not in universe, Federal government, Local government, Never worked, Private, Self-employed-incorporated, Self-employed-not incorporated, State government, Without pay.\n",
    "3. detailed industry recode: 0, 40, 44, 2, 43, 47, 48, 1, 11, 19, 24, 25, 32, 33, 34, 35, 36, 37, 38, 39, 4, 42, 45, 5, 15, 16, 22, 29, 31, 50, 14, 17, 18, 28, 3, 30, 41, 46, 51, 12, 13, 21, 23, 26, 6, 7, 9, 49, 27, 8, 10, 20.\n",
    "4. detailed occupation recode: 0, 12, 31, 44, 19, 32, 10, 23, 26, 28, 29, 42, 40, 34, 14, 36, 38, 2, 20, 25, 37, 41, 27, 24, 30, 43, 33, 16, 45, 17, 35, 22, 18, 39, 3, 15, 13, 46, 8, 21, 9, 4, 6, 5, 1, 11, 7.\n",
    "5. education: Children, 7th and 8th grade, 9th grade, 10th grade, High school graduate, 11th grade, 12th grade no diploma, 5th or 6th grade, Less than 1st grade, Bachelors degree(BA AB BS), 1st 2nd 3rd or 4th grade, Some college but no degree, Masters degree(MA MS MEng MEd MSW MBA), Associates degree-occup /vocational, Associates degree-academic program, Doctorate degree(PhD EdD), Prof school degree (MD DDS DVM LLB JD).\n",
    "6. wage per hour: continuous.\n",
    "7. enroll in edu inst last wk: Not in universe, High school, College or university.\n",
    "8. marital stat: Never married, Married-civilian spouse present, Married-spouse absent, Separated, Divorced, Widowed, Married-A F spouse present.\n",
    "9. major industry code: Not in universe or children, Entertainment, Social services, Agriculture, Education, Public administration, Manufacturing-durable goods, Manufacturing-nondurable goods, Wholesale trade, Retail trade, Finance insurance and real estate, Private household services, Business and repair services, Personal services except private HH, Construction, Medical except hospital, Other professional services, Transportation, Utilities and sanitary services, Mining, Communications, Hospital services, Forestry and fisheries, Armed Forces.\n",
    "10. major occupation code: Not in universe, Professional specialty, Other service, Farming forestry and fishing, Sales, Adm support including clerical, Protective services, Handlers equip cleaners etc , Precision production craft & repair, Technicians and related support, Machine operators assmblrs & inspctrs, Transportation and material moving, Executive admin and managerial, Private household services, Armed Forces.\n",
    "11. race: White, Black, Other, Amer Indian Aleut or Eskimo, Asian or Pacific Islander.\n",
    "12. hispanic origin: Mexican (Mexicano), Mexican-American, Puerto Rican, Central or South American, All other, Other Spanish, Chicano, Cuban, Do not know, NA.\n",
    "13. sex: Female, Male.\n",
    "14. member of a labor union: Not in universe, No, Yes.\n",
    "15. reason for unemployment: Not in universe, Re-entrant, Job loser - on layoff, New entrant, Job leaver, Other job loser.\n",
    "16. full or part time employment stat: Children or Armed Forces, Full-time schedules, Unemployed part- time, Not in labor force, Unemployed full-time, PT for non-econ reasons usually FT, PT for econ reasons usually PT, PT for econ reasons usually FT.\n",
    "17. capital gains: continuous.\n",
    "18. capital losses: continuous.\n",
    "19. dividends from stocks: continuous.\n",
    "20. tax filer stat: Nonfiler, Joint one under 65 & one 65+, Joint both under 65, Single, Head of household, Joint both 65+.\n",
    "21. region of previous residence: Not in universe, South, Northeast, West, Midwest, Abroad.\n",
    "22. state of previous residence: Not in universe, Utah, Michigan, North Carolina, North Dakota, Virginia, Vermont, Wyoming, West Virginia, Pennsylvania, Abroad, Oregon, California, Iowa, Florida, Arkansas, Texas, South Carolina, Arizona, Indiana, Tennessee, Maine, Alaska, Ohio, Montana, Nebraska, Mississippi, District of Columbia, Minnesota, Illinois, Kentucky, Delaware, Colorado, Maryland, Wisconsin, New Hampshire, Nevada, New York, Georgia, Oklahoma, New Mexico, South Dakota, Missouri, Kansas, Connecticut, Louisiana, Alabama, Massachusetts, Idaho, New Jersey.\n",
    "23. detailed household and family stat: Child <18 never marr not in subfamily, Other Rel <18 never marr child of subfamily RP, Other Rel <18 never marr not in subfamily, Grandchild <18 never marr child of subfamily RP, Grandchild <18 never marr not in subfamily, Secondary individual, In group quarters, Child under 18 of RP of unrel subfamily, RP of unrelated subfamily, Spouse of householder, Householder, Other Rel <18 never married RP of subfamily, Grandchild <18 never marr RP of subfamily, Child <18 never marr RP of subfamily, Child <18 ever marr not in subfamily, Other Rel <18 ever marr RP of subfamily, Child <18 ever marr RP of subfamily, Nonfamily householder, Child <18 spouse of subfamily RP, Other Rel <18 spouse of subfamily RP, Other Rel <18 ever marr not in subfamily, Grandchild <18 ever marr not in subfamily, Child 18+ never marr Not in a subfamily, Grandchild 18+ never marr not in subfamily, Child 18+ ever marr RP of subfamily, Other Rel 18+ never marr not in subfamily, Child 18+ never marr RP of subfamily, Other Rel 18+ ever marr RP of subfamily, Other Rel 18+ never marr RP of subfamily, Other Rel 18+ spouse of subfamily RP, Other Rel 18+ ever marr not in subfamily, Child 18+ ever marr Not in a subfamily, Grandchild 18+ ever marr not in subfamily, Child 18+ spouse of subfamily RP, Spouse of RP of unrelated subfamily, Grandchild 18+ ever marr RP of subfamily, Grandchild 18+ never marr RP of subfamily, Grandchild 18+ spouse of subfamily RP.\n",
    "24. detailed household summary in household: Child under 18 never married, Other relative of householder, Nonrelative of householder, Spouse of householder, Householder, Child under 18 ever married, Group Quarters- Secondary individual, Child 18 or older.\n",
    "25. instance weight: continuous.\n",
    "26. migration code-change in msa: Not in universe, Nonmover, MSA to MSA, NonMSA to nonMSA, MSA to nonMSA, NonMSA to MSA, Abroad to MSA, Not identifiable, Abroad to nonMSA.\n",
    "27. migration code-change in reg: Not in universe, Nonmover, Same county, Different county same state, Different state same division, Abroad, Different region, Different division same region.\n",
    "28. migration code-move within reg: Not in universe, Nonmover, Same county, Different county same state, Different state in West, Abroad, Different state in Midwest, Different state in South, Different state in Northeast.\n",
    "29. live in this house 1 year ago: Not in universe under 1 year old, Yes, No.\n",
    "30. migration prev res in sunbelt: Not in universe, Yes, No.\n",
    "31. num persons worked for employer: continuous.\n",
    "32. family members under 18: Both parents present, Neither parent present, Mother only present, Father only present, Not in universe.\n",
    "33. country of birth father: Mexico, United-States, Puerto-Rico, Dominican-Republic, Jamaica, Cuba, Portugal, Nicaragua, Peru, Ecuador, Guatemala, Philippines, Canada, Columbia, El-Salvador, Japan, England, Trinadad&Tobago, Honduras, Germany, Taiwan, Outlying-U S (Guam USVI etc), India, Vietnam, China, Hong Kong, Cambodia, France, Laos, Haiti, South Korea, Iran, Greece, Italy, Poland, Thailand, Yugoslavia, Holand-Netherlands, Ireland, Scotland, Hungary, Panama.\n",
    "34. country of birth mother: India, Mexico, United-States, Puerto-Rico, Dominican-Republic, England, Honduras, Peru, Guatemala, Columbia, El-Salvador, Philippines, France, Ecuador, Nicaragua, Cuba, Outlying-U S (Guam USVI etc), Jamaica, South Korea, China, Germany, Yugoslavia, Canada, Vietnam, Japan, Cambodia, Ireland, Laos, Haiti, Portugal, Taiwan, Holand-Netherlands, Greece, Italy, Poland, Thailand, Trinadad&Tobago, Hungary, Panama, Hong Kong, Scotland, Iran.\n",
    "35. country of birth self: United-States, Mexico, Puerto-Rico, Peru, Canada, South Korea, India, Japan, Haiti, El-Salvador, Dominican-Republic, Portugal, Columbia, England, Thailand, Cuba, Laos, Panama, China, Germany, Vietnam, Italy, Honduras, Outlying-U S (Guam USVI etc), Hungary, Philippines, Poland, Ecuador, Iran, Guatemala, Holand-Netherlands, Taiwan, Nicaragua, France, Jamaica, Scotland, Yugoslavia, Hong Kong, Trinadad&Tobago, Greece, Cambodia, Ireland.\n",
    "36. citizenship: Native- Born in the United States, Foreign born- Not a citizen of U S , Native- Born in Puerto Rico or U S Outlying, Native- Born abroad of American Parent(s), Foreign born- U S citizen by naturalization.\n",
    "37. own business or self employed: 0, 2, 1.\n",
    "38. fill inc questionnaire for veteran's admin: Not in universe, Yes, No.\n",
    "39. veterans benefits: 0, 2, 1.\n",
    "40. weeks worked in year: continuous.\n",
    "41. year: 94, 95.\n",
    "42. income : -5000, 5000+"
   ]
  },
  {
   "cell_type": "code",
   "execution_count": 174,
   "metadata": {},
   "outputs": [
    {
     "data": {
      "text/plain": [
       "Int64Index([ 0,  1,  2,  3,  4,  5,  6,  7,  8,  9, 10, 11, 12, 13, 14, 15, 16,\n",
       "            17, 18, 19, 20, 21, 22, 23, 24, 25, 26, 27, 28, 29, 30, 31, 32, 33,\n",
       "            34, 35, 36, 37, 38, 39, 40, 41],\n",
       "           dtype='int64')"
      ]
     },
     "execution_count": 174,
     "metadata": {},
     "output_type": "execute_result"
    }
   ],
   "source": [
    "census.columns"
   ]
  },
  {
   "cell_type": "code",
   "execution_count": 175,
   "metadata": {},
   "outputs": [],
   "source": [
    "columns=['age','class of worker','detailed industry recode','detailed occupation recode','education','wage per hour','enroll in edu inst last wk','marital stat','major industry code','major occupation code','race','hispanic origin','sex','member of a labor union','reason for unemployment','full or part time employment stat','capital gains','capital losses','dividends from stocks','tax filer stat','region of previous residence','state of previous residence','detailed household and family stat','detailed household summary in household','instance weight','migration code-change in msa','migration code-change in reg','migration code-move within reg','live in this house 1 year ago','migration prev res in sunbelt','num persons worked for employer','family members under 18','country of birth father','country of birth mother','country of birth self','citizenship','own business or self employed','fill inc questionnaire for veterans admin','veterans benefits','weeks worked in year','year','income']"
   ]
  },
  {
   "cell_type": "code",
   "execution_count": 176,
   "metadata": {},
   "outputs": [],
   "source": [
    "new_columns=[]\n",
    "for i in columns:\n",
    "    new_columns.append(i.replace(\" \",\"_\"))"
   ]
  },
  {
   "cell_type": "code",
   "execution_count": 177,
   "metadata": {},
   "outputs": [],
   "source": [
    "census.columns=new_columns"
   ]
  },
  {
   "cell_type": "code",
   "execution_count": 178,
   "metadata": {},
   "outputs": [
    {
     "data": {
      "text/html": [
       "<div>\n",
       "<style scoped>\n",
       "    .dataframe tbody tr th:only-of-type {\n",
       "        vertical-align: middle;\n",
       "    }\n",
       "\n",
       "    .dataframe tbody tr th {\n",
       "        vertical-align: top;\n",
       "    }\n",
       "\n",
       "    .dataframe thead th {\n",
       "        text-align: right;\n",
       "    }\n",
       "</style>\n",
       "<table border=\"1\" class=\"dataframe\">\n",
       "  <thead>\n",
       "    <tr style=\"text-align: right;\">\n",
       "      <th></th>\n",
       "      <th>age</th>\n",
       "      <th>class_of_worker</th>\n",
       "      <th>detailed_industry_recode</th>\n",
       "      <th>detailed_occupation_recode</th>\n",
       "      <th>education</th>\n",
       "      <th>wage_per_hour</th>\n",
       "      <th>enroll_in_edu_inst_last_wk</th>\n",
       "      <th>marital_stat</th>\n",
       "      <th>major_industry_code</th>\n",
       "      <th>major_occupation_code</th>\n",
       "      <th>race</th>\n",
       "      <th>hispanic_origin</th>\n",
       "      <th>sex</th>\n",
       "      <th>member_of_a_labor_union</th>\n",
       "      <th>reason_for_unemployment</th>\n",
       "      <th>full_or_part_time_employment_stat</th>\n",
       "      <th>capital_gains</th>\n",
       "      <th>capital_losses</th>\n",
       "      <th>dividends_from_stocks</th>\n",
       "      <th>tax_filer_stat</th>\n",
       "      <th>region_of_previous_residence</th>\n",
       "      <th>state_of_previous_residence</th>\n",
       "      <th>detailed_household_and_family_stat</th>\n",
       "      <th>detailed_household_summary_in_household</th>\n",
       "      <th>instance_weight</th>\n",
       "      <th>migration_code-change_in_msa</th>\n",
       "      <th>migration_code-change_in_reg</th>\n",
       "      <th>migration_code-move_within_reg</th>\n",
       "      <th>live_in_this_house_1_year_ago</th>\n",
       "      <th>migration_prev_res_in_sunbelt</th>\n",
       "      <th>num_persons_worked_for_employer</th>\n",
       "      <th>family_members_under_18</th>\n",
       "      <th>country_of_birth_father</th>\n",
       "      <th>country_of_birth_mother</th>\n",
       "      <th>country_of_birth_self</th>\n",
       "      <th>citizenship</th>\n",
       "      <th>own_business_or_self_employed</th>\n",
       "      <th>fill_inc_questionnaire_for_veterans_admin</th>\n",
       "      <th>veterans_benefits</th>\n",
       "      <th>weeks_worked_in_year</th>\n",
       "      <th>year</th>\n",
       "      <th>income</th>\n",
       "    </tr>\n",
       "  </thead>\n",
       "  <tbody>\n",
       "    <tr>\n",
       "      <th>0</th>\n",
       "      <td>73</td>\n",
       "      <td>Not in universe</td>\n",
       "      <td>0</td>\n",
       "      <td>0</td>\n",
       "      <td>High school graduate</td>\n",
       "      <td>0</td>\n",
       "      <td>Not in universe</td>\n",
       "      <td>Widowed</td>\n",
       "      <td>Not in universe or children</td>\n",
       "      <td>Not in universe</td>\n",
       "      <td>White</td>\n",
       "      <td>All other</td>\n",
       "      <td>Female</td>\n",
       "      <td>Not in universe</td>\n",
       "      <td>Not in universe</td>\n",
       "      <td>Not in labor force</td>\n",
       "      <td>0</td>\n",
       "      <td>0</td>\n",
       "      <td>0</td>\n",
       "      <td>Nonfiler</td>\n",
       "      <td>Not in universe</td>\n",
       "      <td>Not in universe</td>\n",
       "      <td>Other Rel 18+ ever marr not in subfamily</td>\n",
       "      <td>Other relative of householder</td>\n",
       "      <td>1700.09</td>\n",
       "      <td>?</td>\n",
       "      <td>?</td>\n",
       "      <td>?</td>\n",
       "      <td>Not in universe under 1 year old</td>\n",
       "      <td>?</td>\n",
       "      <td>0</td>\n",
       "      <td>Not in universe</td>\n",
       "      <td>United-States</td>\n",
       "      <td>United-States</td>\n",
       "      <td>United-States</td>\n",
       "      <td>Native- Born in the United States</td>\n",
       "      <td>0</td>\n",
       "      <td>Not in universe</td>\n",
       "      <td>2</td>\n",
       "      <td>0</td>\n",
       "      <td>95</td>\n",
       "      <td>- 50000.</td>\n",
       "    </tr>\n",
       "    <tr>\n",
       "      <th>1</th>\n",
       "      <td>58</td>\n",
       "      <td>Self-employed-not incorporated</td>\n",
       "      <td>4</td>\n",
       "      <td>34</td>\n",
       "      <td>Some college but no degree</td>\n",
       "      <td>0</td>\n",
       "      <td>Not in universe</td>\n",
       "      <td>Divorced</td>\n",
       "      <td>Construction</td>\n",
       "      <td>Precision production craft &amp; repair</td>\n",
       "      <td>White</td>\n",
       "      <td>All other</td>\n",
       "      <td>Male</td>\n",
       "      <td>Not in universe</td>\n",
       "      <td>Not in universe</td>\n",
       "      <td>Children or Armed Forces</td>\n",
       "      <td>0</td>\n",
       "      <td>0</td>\n",
       "      <td>0</td>\n",
       "      <td>Head of household</td>\n",
       "      <td>South</td>\n",
       "      <td>Arkansas</td>\n",
       "      <td>Householder</td>\n",
       "      <td>Householder</td>\n",
       "      <td>1053.55</td>\n",
       "      <td>MSA to MSA</td>\n",
       "      <td>Same county</td>\n",
       "      <td>Same county</td>\n",
       "      <td>No</td>\n",
       "      <td>Yes</td>\n",
       "      <td>1</td>\n",
       "      <td>Not in universe</td>\n",
       "      <td>United-States</td>\n",
       "      <td>United-States</td>\n",
       "      <td>United-States</td>\n",
       "      <td>Native- Born in the United States</td>\n",
       "      <td>0</td>\n",
       "      <td>Not in universe</td>\n",
       "      <td>2</td>\n",
       "      <td>52</td>\n",
       "      <td>94</td>\n",
       "      <td>- 50000.</td>\n",
       "    </tr>\n",
       "    <tr>\n",
       "      <th>2</th>\n",
       "      <td>18</td>\n",
       "      <td>Not in universe</td>\n",
       "      <td>0</td>\n",
       "      <td>0</td>\n",
       "      <td>10th grade</td>\n",
       "      <td>0</td>\n",
       "      <td>High school</td>\n",
       "      <td>Never married</td>\n",
       "      <td>Not in universe or children</td>\n",
       "      <td>Not in universe</td>\n",
       "      <td>Asian or Pacific Islander</td>\n",
       "      <td>All other</td>\n",
       "      <td>Female</td>\n",
       "      <td>Not in universe</td>\n",
       "      <td>Not in universe</td>\n",
       "      <td>Not in labor force</td>\n",
       "      <td>0</td>\n",
       "      <td>0</td>\n",
       "      <td>0</td>\n",
       "      <td>Nonfiler</td>\n",
       "      <td>Not in universe</td>\n",
       "      <td>Not in universe</td>\n",
       "      <td>Child 18+ never marr Not in a subfamily</td>\n",
       "      <td>Child 18 or older</td>\n",
       "      <td>991.95</td>\n",
       "      <td>?</td>\n",
       "      <td>?</td>\n",
       "      <td>?</td>\n",
       "      <td>Not in universe under 1 year old</td>\n",
       "      <td>?</td>\n",
       "      <td>0</td>\n",
       "      <td>Not in universe</td>\n",
       "      <td>Vietnam</td>\n",
       "      <td>Vietnam</td>\n",
       "      <td>Vietnam</td>\n",
       "      <td>Foreign born- Not a citizen of U S</td>\n",
       "      <td>0</td>\n",
       "      <td>Not in universe</td>\n",
       "      <td>2</td>\n",
       "      <td>0</td>\n",
       "      <td>95</td>\n",
       "      <td>- 50000.</td>\n",
       "    </tr>\n",
       "    <tr>\n",
       "      <th>3</th>\n",
       "      <td>9</td>\n",
       "      <td>Not in universe</td>\n",
       "      <td>0</td>\n",
       "      <td>0</td>\n",
       "      <td>Children</td>\n",
       "      <td>0</td>\n",
       "      <td>Not in universe</td>\n",
       "      <td>Never married</td>\n",
       "      <td>Not in universe or children</td>\n",
       "      <td>Not in universe</td>\n",
       "      <td>White</td>\n",
       "      <td>All other</td>\n",
       "      <td>Female</td>\n",
       "      <td>Not in universe</td>\n",
       "      <td>Not in universe</td>\n",
       "      <td>Children or Armed Forces</td>\n",
       "      <td>0</td>\n",
       "      <td>0</td>\n",
       "      <td>0</td>\n",
       "      <td>Nonfiler</td>\n",
       "      <td>Not in universe</td>\n",
       "      <td>Not in universe</td>\n",
       "      <td>Child &lt;18 never marr not in subfamily</td>\n",
       "      <td>Child under 18 never married</td>\n",
       "      <td>1758.14</td>\n",
       "      <td>Nonmover</td>\n",
       "      <td>Nonmover</td>\n",
       "      <td>Nonmover</td>\n",
       "      <td>Yes</td>\n",
       "      <td>Not in universe</td>\n",
       "      <td>0</td>\n",
       "      <td>Both parents present</td>\n",
       "      <td>United-States</td>\n",
       "      <td>United-States</td>\n",
       "      <td>United-States</td>\n",
       "      <td>Native- Born in the United States</td>\n",
       "      <td>0</td>\n",
       "      <td>Not in universe</td>\n",
       "      <td>0</td>\n",
       "      <td>0</td>\n",
       "      <td>94</td>\n",
       "      <td>- 50000.</td>\n",
       "    </tr>\n",
       "    <tr>\n",
       "      <th>4</th>\n",
       "      <td>10</td>\n",
       "      <td>Not in universe</td>\n",
       "      <td>0</td>\n",
       "      <td>0</td>\n",
       "      <td>Children</td>\n",
       "      <td>0</td>\n",
       "      <td>Not in universe</td>\n",
       "      <td>Never married</td>\n",
       "      <td>Not in universe or children</td>\n",
       "      <td>Not in universe</td>\n",
       "      <td>White</td>\n",
       "      <td>All other</td>\n",
       "      <td>Female</td>\n",
       "      <td>Not in universe</td>\n",
       "      <td>Not in universe</td>\n",
       "      <td>Children or Armed Forces</td>\n",
       "      <td>0</td>\n",
       "      <td>0</td>\n",
       "      <td>0</td>\n",
       "      <td>Nonfiler</td>\n",
       "      <td>Not in universe</td>\n",
       "      <td>Not in universe</td>\n",
       "      <td>Child &lt;18 never marr not in subfamily</td>\n",
       "      <td>Child under 18 never married</td>\n",
       "      <td>1069.16</td>\n",
       "      <td>Nonmover</td>\n",
       "      <td>Nonmover</td>\n",
       "      <td>Nonmover</td>\n",
       "      <td>Yes</td>\n",
       "      <td>Not in universe</td>\n",
       "      <td>0</td>\n",
       "      <td>Both parents present</td>\n",
       "      <td>United-States</td>\n",
       "      <td>United-States</td>\n",
       "      <td>United-States</td>\n",
       "      <td>Native- Born in the United States</td>\n",
       "      <td>0</td>\n",
       "      <td>Not in universe</td>\n",
       "      <td>0</td>\n",
       "      <td>0</td>\n",
       "      <td>94</td>\n",
       "      <td>- 50000.</td>\n",
       "    </tr>\n",
       "  </tbody>\n",
       "</table>\n",
       "</div>"
      ],
      "text/plain": [
       "   age                  class_of_worker  detailed_industry_recode  \\\n",
       "0   73                  Not in universe                         0   \n",
       "1   58   Self-employed-not incorporated                         4   \n",
       "2   18                  Not in universe                         0   \n",
       "3    9                  Not in universe                         0   \n",
       "4   10                  Not in universe                         0   \n",
       "\n",
       "   detailed_occupation_recode                    education  wage_per_hour  \\\n",
       "0                           0         High school graduate              0   \n",
       "1                          34   Some college but no degree              0   \n",
       "2                           0                   10th grade              0   \n",
       "3                           0                     Children              0   \n",
       "4                           0                     Children              0   \n",
       "\n",
       "  enroll_in_edu_inst_last_wk    marital_stat           major_industry_code  \\\n",
       "0            Not in universe         Widowed   Not in universe or children   \n",
       "1            Not in universe        Divorced                  Construction   \n",
       "2                High school   Never married   Not in universe or children   \n",
       "3            Not in universe   Never married   Not in universe or children   \n",
       "4            Not in universe   Never married   Not in universe or children   \n",
       "\n",
       "                  major_occupation_code                        race  \\\n",
       "0                       Not in universe                       White   \n",
       "1   Precision production craft & repair                       White   \n",
       "2                       Not in universe   Asian or Pacific Islander   \n",
       "3                       Not in universe                       White   \n",
       "4                       Not in universe                       White   \n",
       "\n",
       "  hispanic_origin      sex member_of_a_labor_union reason_for_unemployment  \\\n",
       "0       All other   Female         Not in universe         Not in universe   \n",
       "1       All other     Male         Not in universe         Not in universe   \n",
       "2       All other   Female         Not in universe         Not in universe   \n",
       "3       All other   Female         Not in universe         Not in universe   \n",
       "4       All other   Female         Not in universe         Not in universe   \n",
       "\n",
       "  full_or_part_time_employment_stat  capital_gains  capital_losses  \\\n",
       "0                Not in labor force              0               0   \n",
       "1          Children or Armed Forces              0               0   \n",
       "2                Not in labor force              0               0   \n",
       "3          Children or Armed Forces              0               0   \n",
       "4          Children or Armed Forces              0               0   \n",
       "\n",
       "   dividends_from_stocks      tax_filer_stat region_of_previous_residence  \\\n",
       "0                      0            Nonfiler              Not in universe   \n",
       "1                      0   Head of household                        South   \n",
       "2                      0            Nonfiler              Not in universe   \n",
       "3                      0            Nonfiler              Not in universe   \n",
       "4                      0            Nonfiler              Not in universe   \n",
       "\n",
       "  state_of_previous_residence         detailed_household_and_family_stat  \\\n",
       "0             Not in universe   Other Rel 18+ ever marr not in subfamily   \n",
       "1                    Arkansas                                Householder   \n",
       "2             Not in universe    Child 18+ never marr Not in a subfamily   \n",
       "3             Not in universe      Child <18 never marr not in subfamily   \n",
       "4             Not in universe      Child <18 never marr not in subfamily   \n",
       "\n",
       "  detailed_household_summary_in_household  instance_weight  \\\n",
       "0           Other relative of householder          1700.09   \n",
       "1                             Householder          1053.55   \n",
       "2                       Child 18 or older           991.95   \n",
       "3            Child under 18 never married          1758.14   \n",
       "4            Child under 18 never married          1069.16   \n",
       "\n",
       "  migration_code-change_in_msa migration_code-change_in_reg  \\\n",
       "0                            ?                            ?   \n",
       "1                   MSA to MSA                  Same county   \n",
       "2                            ?                            ?   \n",
       "3                     Nonmover                     Nonmover   \n",
       "4                     Nonmover                     Nonmover   \n",
       "\n",
       "  migration_code-move_within_reg      live_in_this_house_1_year_ago  \\\n",
       "0                              ?   Not in universe under 1 year old   \n",
       "1                    Same county                                 No   \n",
       "2                              ?   Not in universe under 1 year old   \n",
       "3                       Nonmover                                Yes   \n",
       "4                       Nonmover                                Yes   \n",
       "\n",
       "  migration_prev_res_in_sunbelt  num_persons_worked_for_employer  \\\n",
       "0                             ?                                0   \n",
       "1                           Yes                                1   \n",
       "2                             ?                                0   \n",
       "3               Not in universe                                0   \n",
       "4               Not in universe                                0   \n",
       "\n",
       "  family_members_under_18 country_of_birth_father country_of_birth_mother  \\\n",
       "0         Not in universe           United-States           United-States   \n",
       "1         Not in universe           United-States           United-States   \n",
       "2         Not in universe                 Vietnam                 Vietnam   \n",
       "3    Both parents present           United-States           United-States   \n",
       "4    Both parents present           United-States           United-States   \n",
       "\n",
       "  country_of_birth_self                           citizenship  \\\n",
       "0         United-States     Native- Born in the United States   \n",
       "1         United-States     Native- Born in the United States   \n",
       "2               Vietnam   Foreign born- Not a citizen of U S    \n",
       "3         United-States     Native- Born in the United States   \n",
       "4         United-States     Native- Born in the United States   \n",
       "\n",
       "   own_business_or_self_employed fill_inc_questionnaire_for_veterans_admin  \\\n",
       "0                              0                           Not in universe   \n",
       "1                              0                           Not in universe   \n",
       "2                              0                           Not in universe   \n",
       "3                              0                           Not in universe   \n",
       "4                              0                           Not in universe   \n",
       "\n",
       "   veterans_benefits  weeks_worked_in_year  year     income  \n",
       "0                  2                     0    95   - 50000.  \n",
       "1                  2                    52    94   - 50000.  \n",
       "2                  2                     0    95   - 50000.  \n",
       "3                  0                     0    94   - 50000.  \n",
       "4                  0                     0    94   - 50000.  "
      ]
     },
     "execution_count": 178,
     "metadata": {},
     "output_type": "execute_result"
    }
   ],
   "source": [
    "census.head()"
   ]
  },
  {
   "cell_type": "markdown",
   "metadata": {},
   "source": [
    "###### CHECKING NULL VALUES"
   ]
  },
  {
   "cell_type": "code",
   "execution_count": 179,
   "metadata": {},
   "outputs": [
    {
     "data": {
      "text/plain": [
       "age                                          0\n",
       "class_of_worker                              0\n",
       "detailed_industry_recode                     0\n",
       "detailed_occupation_recode                   0\n",
       "education                                    0\n",
       "wage_per_hour                                0\n",
       "enroll_in_edu_inst_last_wk                   0\n",
       "marital_stat                                 0\n",
       "major_industry_code                          0\n",
       "major_occupation_code                        0\n",
       "race                                         0\n",
       "hispanic_origin                              0\n",
       "sex                                          0\n",
       "member_of_a_labor_union                      0\n",
       "reason_for_unemployment                      0\n",
       "full_or_part_time_employment_stat            0\n",
       "capital_gains                                0\n",
       "capital_losses                               0\n",
       "dividends_from_stocks                        0\n",
       "tax_filer_stat                               0\n",
       "region_of_previous_residence                 0\n",
       "state_of_previous_residence                  0\n",
       "detailed_household_and_family_stat           0\n",
       "detailed_household_summary_in_household      0\n",
       "instance_weight                              0\n",
       "migration_code-change_in_msa                 0\n",
       "migration_code-change_in_reg                 0\n",
       "migration_code-move_within_reg               0\n",
       "live_in_this_house_1_year_ago                0\n",
       "migration_prev_res_in_sunbelt                0\n",
       "num_persons_worked_for_employer              0\n",
       "family_members_under_18                      0\n",
       "country_of_birth_father                      0\n",
       "country_of_birth_mother                      0\n",
       "country_of_birth_self                        0\n",
       "citizenship                                  0\n",
       "own_business_or_self_employed                0\n",
       "fill_inc_questionnaire_for_veterans_admin    0\n",
       "veterans_benefits                            0\n",
       "weeks_worked_in_year                         0\n",
       "year                                         0\n",
       "income                                       0\n",
       "dtype: int64"
      ]
     },
     "execution_count": 179,
     "metadata": {},
     "output_type": "execute_result"
    }
   ],
   "source": [
    "census.isnull().sum()"
   ]
  },
  {
   "cell_type": "code",
   "execution_count": 180,
   "metadata": {},
   "outputs": [],
   "source": [
    "# Null are given by ' ?' in the data"
   ]
  },
  {
   "cell_type": "code",
   "execution_count": null,
   "metadata": {},
   "outputs": [],
   "source": [
    "census[census==' ?'].notnull().sum()"
   ]
  },
  {
   "cell_type": "code",
   "execution_count": 145,
   "metadata": {},
   "outputs": [],
   "source": [
    "census[census==' ?']=np.nan"
   ]
  },
  {
   "cell_type": "code",
   "execution_count": 146,
   "metadata": {},
   "outputs": [
    {
     "data": {
      "text/plain": [
       "age                                              0\n",
       "class_of_worker                                  0\n",
       "detailed_industry_recode                         0\n",
       "detailed_occupation_recode                       0\n",
       "education                                        0\n",
       "wage_per_hour                                    0\n",
       "enroll_in_edu_inst_last_wk                       0\n",
       "marital_stat                                     0\n",
       "major_industry_code                              0\n",
       "major_occupation_code                            0\n",
       "race                                             0\n",
       "hispanic_origin                                  0\n",
       "sex                                              0\n",
       "member_of_a_labor_union                          0\n",
       "reason_for_unemployment                          0\n",
       "full_or_part_time_employment_stat                0\n",
       "capital_gains                                    0\n",
       "capital_losses                                   0\n",
       "dividends_from_stocks                            0\n",
       "tax_filer_stat                                   0\n",
       "region_of_previous_residence                     0\n",
       "state_of_previous_residence                    708\n",
       "detailed_household_and_family_stat               0\n",
       "detailed_household_summary_in_household          0\n",
       "instance_weight                                  0\n",
       "migration_code-change_in_msa                 99696\n",
       "migration_code-change_in_reg                 99696\n",
       "migration_code-move_within_reg               99696\n",
       "live_in_this_house_1_year_ago                    0\n",
       "migration_prev_res_in_sunbelt                99696\n",
       "num_persons_worked_for_employer                  0\n",
       "family_members_under_18                          0\n",
       "country_of_birth_father                       6713\n",
       "country_of_birth_mother                       6119\n",
       "country_of_birth_self                         3393\n",
       "citizenship                                      0\n",
       "own_business_or_self_employed                    0\n",
       "fill_inc_questionnaire_for_veterans_admin        0\n",
       "veterans_benefits                                0\n",
       "weeks_worked_in_year                             0\n",
       "year                                             0\n",
       "income                                           0\n",
       "dtype: int64"
      ]
     },
     "execution_count": 146,
     "metadata": {},
     "output_type": "execute_result"
    }
   ],
   "source": [
    "census.isnull().sum()"
   ]
  },
  {
   "cell_type": "code",
   "execution_count": 147,
   "metadata": {},
   "outputs": [
    {
     "data": {
      "text/html": [
       "<div>\n",
       "<style scoped>\n",
       "    .dataframe tbody tr th:only-of-type {\n",
       "        vertical-align: middle;\n",
       "    }\n",
       "\n",
       "    .dataframe tbody tr th {\n",
       "        vertical-align: top;\n",
       "    }\n",
       "\n",
       "    .dataframe thead th {\n",
       "        text-align: right;\n",
       "    }\n",
       "</style>\n",
       "<table border=\"1\" class=\"dataframe\">\n",
       "  <thead>\n",
       "    <tr style=\"text-align: right;\">\n",
       "      <th></th>\n",
       "      <th>Total_numbers</th>\n",
       "      <th>Percent_missing</th>\n",
       "    </tr>\n",
       "  </thead>\n",
       "  <tbody>\n",
       "    <tr>\n",
       "      <th>migration_prev_res_in_sunbelt</th>\n",
       "      <td>99696</td>\n",
       "      <td>49.967172</td>\n",
       "    </tr>\n",
       "    <tr>\n",
       "      <th>migration_code-move_within_reg</th>\n",
       "      <td>99696</td>\n",
       "      <td>49.967172</td>\n",
       "    </tr>\n",
       "    <tr>\n",
       "      <th>migration_code-change_in_msa</th>\n",
       "      <td>99696</td>\n",
       "      <td>49.967172</td>\n",
       "    </tr>\n",
       "    <tr>\n",
       "      <th>migration_code-change_in_reg</th>\n",
       "      <td>99696</td>\n",
       "      <td>49.967172</td>\n",
       "    </tr>\n",
       "    <tr>\n",
       "      <th>country_of_birth_father</th>\n",
       "      <td>6713</td>\n",
       "      <td>3.364524</td>\n",
       "    </tr>\n",
       "    <tr>\n",
       "      <th>country_of_birth_mother</th>\n",
       "      <td>6119</td>\n",
       "      <td>3.066814</td>\n",
       "    </tr>\n",
       "    <tr>\n",
       "      <th>country_of_birth_self</th>\n",
       "      <td>3393</td>\n",
       "      <td>1.700556</td>\n",
       "    </tr>\n",
       "    <tr>\n",
       "      <th>state_of_previous_residence</th>\n",
       "      <td>708</td>\n",
       "      <td>0.354846</td>\n",
       "    </tr>\n",
       "    <tr>\n",
       "      <th>reason_for_unemployment</th>\n",
       "      <td>0</td>\n",
       "      <td>0.000000</td>\n",
       "    </tr>\n",
       "    <tr>\n",
       "      <th>member_of_a_labor_union</th>\n",
       "      <td>0</td>\n",
       "      <td>0.000000</td>\n",
       "    </tr>\n",
       "    <tr>\n",
       "      <th>sex</th>\n",
       "      <td>0</td>\n",
       "      <td>0.000000</td>\n",
       "    </tr>\n",
       "    <tr>\n",
       "      <th>hispanic_origin</th>\n",
       "      <td>0</td>\n",
       "      <td>0.000000</td>\n",
       "    </tr>\n",
       "    <tr>\n",
       "      <th>race</th>\n",
       "      <td>0</td>\n",
       "      <td>0.000000</td>\n",
       "    </tr>\n",
       "    <tr>\n",
       "      <th>major_occupation_code</th>\n",
       "      <td>0</td>\n",
       "      <td>0.000000</td>\n",
       "    </tr>\n",
       "    <tr>\n",
       "      <th>income</th>\n",
       "      <td>0</td>\n",
       "      <td>0.000000</td>\n",
       "    </tr>\n",
       "    <tr>\n",
       "      <th>major_industry_code</th>\n",
       "      <td>0</td>\n",
       "      <td>0.000000</td>\n",
       "    </tr>\n",
       "    <tr>\n",
       "      <th>capital_gains</th>\n",
       "      <td>0</td>\n",
       "      <td>0.000000</td>\n",
       "    </tr>\n",
       "    <tr>\n",
       "      <th>marital_stat</th>\n",
       "      <td>0</td>\n",
       "      <td>0.000000</td>\n",
       "    </tr>\n",
       "    <tr>\n",
       "      <th>enroll_in_edu_inst_last_wk</th>\n",
       "      <td>0</td>\n",
       "      <td>0.000000</td>\n",
       "    </tr>\n",
       "    <tr>\n",
       "      <th>wage_per_hour</th>\n",
       "      <td>0</td>\n",
       "      <td>0.000000</td>\n",
       "    </tr>\n",
       "    <tr>\n",
       "      <th>education</th>\n",
       "      <td>0</td>\n",
       "      <td>0.000000</td>\n",
       "    </tr>\n",
       "    <tr>\n",
       "      <th>detailed_occupation_recode</th>\n",
       "      <td>0</td>\n",
       "      <td>0.000000</td>\n",
       "    </tr>\n",
       "    <tr>\n",
       "      <th>detailed_industry_recode</th>\n",
       "      <td>0</td>\n",
       "      <td>0.000000</td>\n",
       "    </tr>\n",
       "    <tr>\n",
       "      <th>class_of_worker</th>\n",
       "      <td>0</td>\n",
       "      <td>0.000000</td>\n",
       "    </tr>\n",
       "    <tr>\n",
       "      <th>full_or_part_time_employment_stat</th>\n",
       "      <td>0</td>\n",
       "      <td>0.000000</td>\n",
       "    </tr>\n",
       "    <tr>\n",
       "      <th>region_of_previous_residence</th>\n",
       "      <td>0</td>\n",
       "      <td>0.000000</td>\n",
       "    </tr>\n",
       "    <tr>\n",
       "      <th>capital_losses</th>\n",
       "      <td>0</td>\n",
       "      <td>0.000000</td>\n",
       "    </tr>\n",
       "    <tr>\n",
       "      <th>dividends_from_stocks</th>\n",
       "      <td>0</td>\n",
       "      <td>0.000000</td>\n",
       "    </tr>\n",
       "    <tr>\n",
       "      <th>tax_filer_stat</th>\n",
       "      <td>0</td>\n",
       "      <td>0.000000</td>\n",
       "    </tr>\n",
       "    <tr>\n",
       "      <th>year</th>\n",
       "      <td>0</td>\n",
       "      <td>0.000000</td>\n",
       "    </tr>\n",
       "    <tr>\n",
       "      <th>detailed_household_and_family_stat</th>\n",
       "      <td>0</td>\n",
       "      <td>0.000000</td>\n",
       "    </tr>\n",
       "    <tr>\n",
       "      <th>detailed_household_summary_in_household</th>\n",
       "      <td>0</td>\n",
       "      <td>0.000000</td>\n",
       "    </tr>\n",
       "    <tr>\n",
       "      <th>instance_weight</th>\n",
       "      <td>0</td>\n",
       "      <td>0.000000</td>\n",
       "    </tr>\n",
       "    <tr>\n",
       "      <th>live_in_this_house_1_year_ago</th>\n",
       "      <td>0</td>\n",
       "      <td>0.000000</td>\n",
       "    </tr>\n",
       "    <tr>\n",
       "      <th>num_persons_worked_for_employer</th>\n",
       "      <td>0</td>\n",
       "      <td>0.000000</td>\n",
       "    </tr>\n",
       "    <tr>\n",
       "      <th>family_members_under_18</th>\n",
       "      <td>0</td>\n",
       "      <td>0.000000</td>\n",
       "    </tr>\n",
       "    <tr>\n",
       "      <th>citizenship</th>\n",
       "      <td>0</td>\n",
       "      <td>0.000000</td>\n",
       "    </tr>\n",
       "    <tr>\n",
       "      <th>own_business_or_self_employed</th>\n",
       "      <td>0</td>\n",
       "      <td>0.000000</td>\n",
       "    </tr>\n",
       "    <tr>\n",
       "      <th>fill_inc_questionnaire_for_veterans_admin</th>\n",
       "      <td>0</td>\n",
       "      <td>0.000000</td>\n",
       "    </tr>\n",
       "    <tr>\n",
       "      <th>veterans_benefits</th>\n",
       "      <td>0</td>\n",
       "      <td>0.000000</td>\n",
       "    </tr>\n",
       "    <tr>\n",
       "      <th>weeks_worked_in_year</th>\n",
       "      <td>0</td>\n",
       "      <td>0.000000</td>\n",
       "    </tr>\n",
       "    <tr>\n",
       "      <th>age</th>\n",
       "      <td>0</td>\n",
       "      <td>0.000000</td>\n",
       "    </tr>\n",
       "  </tbody>\n",
       "</table>\n",
       "</div>"
      ],
      "text/plain": [
       "                                           Total_numbers  Percent_missing\n",
       "migration_prev_res_in_sunbelt                      99696        49.967172\n",
       "migration_code-move_within_reg                     99696        49.967172\n",
       "migration_code-change_in_msa                       99696        49.967172\n",
       "migration_code-change_in_reg                       99696        49.967172\n",
       "country_of_birth_father                             6713         3.364524\n",
       "country_of_birth_mother                             6119         3.066814\n",
       "country_of_birth_self                               3393         1.700556\n",
       "state_of_previous_residence                          708         0.354846\n",
       "reason_for_unemployment                                0         0.000000\n",
       "member_of_a_labor_union                                0         0.000000\n",
       "sex                                                    0         0.000000\n",
       "hispanic_origin                                        0         0.000000\n",
       "race                                                   0         0.000000\n",
       "major_occupation_code                                  0         0.000000\n",
       "income                                                 0         0.000000\n",
       "major_industry_code                                    0         0.000000\n",
       "capital_gains                                          0         0.000000\n",
       "marital_stat                                           0         0.000000\n",
       "enroll_in_edu_inst_last_wk                             0         0.000000\n",
       "wage_per_hour                                          0         0.000000\n",
       "education                                              0         0.000000\n",
       "detailed_occupation_recode                             0         0.000000\n",
       "detailed_industry_recode                               0         0.000000\n",
       "class_of_worker                                        0         0.000000\n",
       "full_or_part_time_employment_stat                      0         0.000000\n",
       "region_of_previous_residence                           0         0.000000\n",
       "capital_losses                                         0         0.000000\n",
       "dividends_from_stocks                                  0         0.000000\n",
       "tax_filer_stat                                         0         0.000000\n",
       "year                                                   0         0.000000\n",
       "detailed_household_and_family_stat                     0         0.000000\n",
       "detailed_household_summary_in_household                0         0.000000\n",
       "instance_weight                                        0         0.000000\n",
       "live_in_this_house_1_year_ago                          0         0.000000\n",
       "num_persons_worked_for_employer                        0         0.000000\n",
       "family_members_under_18                                0         0.000000\n",
       "citizenship                                            0         0.000000\n",
       "own_business_or_self_employed                          0         0.000000\n",
       "fill_inc_questionnaire_for_veterans_admin              0         0.000000\n",
       "veterans_benefits                                      0         0.000000\n",
       "weeks_worked_in_year                                   0         0.000000\n",
       "age                                                    0         0.000000"
      ]
     },
     "execution_count": 147,
     "metadata": {},
     "output_type": "execute_result"
    }
   ],
   "source": [
    "def percent_null(df):\n",
    "    total_numbers = df.isnull().sum().sort_values(ascending=False)\n",
    "    percent_missing = (df.isnull().sum()/df.isnull().count()).sort_values(ascending=False)\n",
    "    missing_data = pd.concat([total_numbers, percent_missing*100], axis=1, keys=['Total_numbers', 'Percent_missing']) \n",
    "    return missing_data\n",
    "percent_null(census)"
   ]
  },
  {
   "cell_type": "code",
   "execution_count": 148,
   "metadata": {},
   "outputs": [],
   "source": [
    "# DROPPING COLUMNS WITH APPROX 50% MISSSING VALUES"
   ]
  },
  {
   "cell_type": "code",
   "execution_count": 149,
   "metadata": {},
   "outputs": [],
   "source": [
    "census.drop(['migration_prev_res_in_sunbelt','migration_code-move_within_reg','migration_code-change_in_msa','migration_code-change_in_reg'],axis=1,inplace=True)"
   ]
  },
  {
   "cell_type": "code",
   "execution_count": 150,
   "metadata": {},
   "outputs": [],
   "source": [
    "#REPLACING NULL VALUES"
   ]
  },
  {
   "cell_type": "code",
   "execution_count": 151,
   "metadata": {},
   "outputs": [
    {
     "data": {
      "text/html": [
       "<div>\n",
       "<style scoped>\n",
       "    .dataframe tbody tr th:only-of-type {\n",
       "        vertical-align: middle;\n",
       "    }\n",
       "\n",
       "    .dataframe tbody tr th {\n",
       "        vertical-align: top;\n",
       "    }\n",
       "\n",
       "    .dataframe thead th {\n",
       "        text-align: right;\n",
       "    }\n",
       "</style>\n",
       "<table border=\"1\" class=\"dataframe\">\n",
       "  <thead>\n",
       "    <tr style=\"text-align: right;\">\n",
       "      <th></th>\n",
       "      <th>Total_numbers</th>\n",
       "      <th>Percent_missing</th>\n",
       "    </tr>\n",
       "  </thead>\n",
       "  <tbody>\n",
       "    <tr>\n",
       "      <th>country_of_birth_father</th>\n",
       "      <td>6713</td>\n",
       "      <td>3.364524</td>\n",
       "    </tr>\n",
       "    <tr>\n",
       "      <th>country_of_birth_mother</th>\n",
       "      <td>6119</td>\n",
       "      <td>3.066814</td>\n",
       "    </tr>\n",
       "    <tr>\n",
       "      <th>country_of_birth_self</th>\n",
       "      <td>3393</td>\n",
       "      <td>1.700556</td>\n",
       "    </tr>\n",
       "    <tr>\n",
       "      <th>state_of_previous_residence</th>\n",
       "      <td>708</td>\n",
       "      <td>0.354846</td>\n",
       "    </tr>\n",
       "  </tbody>\n",
       "</table>\n",
       "</div>"
      ],
      "text/plain": [
       "                             Total_numbers  Percent_missing\n",
       "country_of_birth_father               6713         3.364524\n",
       "country_of_birth_mother               6119         3.066814\n",
       "country_of_birth_self                 3393         1.700556\n",
       "state_of_previous_residence            708         0.354846"
      ]
     },
     "execution_count": 151,
     "metadata": {},
     "output_type": "execute_result"
    }
   ],
   "source": [
    "percent_null(census).head(4)"
   ]
  },
  {
   "cell_type": "code",
   "execution_count": 153,
   "metadata": {},
   "outputs": [],
   "source": [
    "# Removing the spaces in the dataset\n",
    "categorical = census.select_dtypes('object')"
   ]
  },
  {
   "cell_type": "code",
   "execution_count": 154,
   "metadata": {},
   "outputs": [],
   "source": [
    "for i in categorical:\n",
    "    census[i] = census[i].str.strip()"
   ]
  },
  {
   "cell_type": "code",
   "execution_count": 155,
   "metadata": {},
   "outputs": [
    {
     "data": {
      "text/plain": [
       "array(['High school graduate', 'Some college but no degree', '10th grade',\n",
       "       'Children', 'Bachelors degree(BA AB BS)',\n",
       "       'Masters degree(MA MS MEng MEd MSW MBA)', 'Less than 1st grade',\n",
       "       'Associates degree-academic program', '7th and 8th grade',\n",
       "       '12th grade no diploma', 'Associates degree-occup /vocational',\n",
       "       'Prof school degree (MD DDS DVM LLB JD)', '5th or 6th grade',\n",
       "       '11th grade', 'Doctorate degree(PhD EdD)', '9th grade',\n",
       "       '1st 2nd 3rd or 4th grade'], dtype=object)"
      ]
     },
     "execution_count": 155,
     "metadata": {},
     "output_type": "execute_result"
    }
   ],
   "source": [
    "# checking a column to see if the spaces are removed\n",
    "census['education'].unique()"
   ]
  },
  {
   "cell_type": "code",
   "execution_count": 156,
   "metadata": {},
   "outputs": [],
   "source": [
    "# Spaces are removed"
   ]
  },
  {
   "cell_type": "code",
   "execution_count": 157,
   "metadata": {},
   "outputs": [
    {
     "data": {
      "text/plain": [
       "age                                               0\n",
       "class_of_worker                              100245\n",
       "detailed_industry_recode                          0\n",
       "detailed_occupation_recode                        0\n",
       "education                                         0\n",
       "wage_per_hour                                     0\n",
       "enroll_in_edu_inst_last_wk                   186943\n",
       "marital_stat                                      0\n",
       "major_industry_code                               0\n",
       "major_occupation_code                        100684\n",
       "race                                              0\n",
       "hispanic_origin                                   0\n",
       "sex                                               0\n",
       "member_of_a_labor_union                      180459\n",
       "reason_for_unemployment                      193453\n",
       "full_or_part_time_employment_stat                 0\n",
       "capital_gains                                     0\n",
       "capital_losses                                    0\n",
       "dividends_from_stocks                             0\n",
       "tax_filer_stat                                    0\n",
       "region_of_previous_residence                 183750\n",
       "state_of_previous_residence                  183750\n",
       "detailed_household_and_family_stat                0\n",
       "detailed_household_summary_in_household           0\n",
       "instance_weight                                   0\n",
       "live_in_this_house_1_year_ago                     0\n",
       "num_persons_worked_for_employer                   0\n",
       "family_members_under_18                      144232\n",
       "country_of_birth_father                           0\n",
       "country_of_birth_mother                           0\n",
       "country_of_birth_self                             0\n",
       "citizenship                                       0\n",
       "own_business_or_self_employed                     0\n",
       "fill_inc_questionnaire_for_veterans_admin    197539\n",
       "veterans_benefits                                 0\n",
       "weeks_worked_in_year                              0\n",
       "year                                              0\n",
       "income                                            0\n",
       "dtype: int64"
      ]
     },
     "execution_count": 157,
     "metadata": {},
     "output_type": "execute_result"
    }
   ],
   "source": [
    "census[census=='Not in universe'].notnull().sum()"
   ]
  },
  {
   "cell_type": "code",
   "execution_count": 158,
   "metadata": {},
   "outputs": [],
   "source": [
    "census1=census.copy()"
   ]
  },
  {
   "cell_type": "code",
   "execution_count": 159,
   "metadata": {},
   "outputs": [
    {
     "data": {
      "text/plain": [
       "(199523, 38)"
      ]
     },
     "execution_count": 159,
     "metadata": {},
     "output_type": "execute_result"
    }
   ],
   "source": [
    "census1.shape"
   ]
  },
  {
   "cell_type": "code",
   "execution_count": 160,
   "metadata": {},
   "outputs": [],
   "source": [
    "# REPLACE COUNTRY OF BIRTH FATHER WITH MOTHER"
   ]
  },
  {
   "cell_type": "code",
   "execution_count": 161,
   "metadata": {},
   "outputs": [
    {
     "data": {
      "text/plain": [
       "6713"
      ]
     },
     "execution_count": 161,
     "metadata": {},
     "output_type": "execute_result"
    }
   ],
   "source": [
    "census1['country_of_birth_father'].isnull().sum()"
   ]
  },
  {
   "cell_type": "code",
   "execution_count": 162,
   "metadata": {
    "scrolled": true
   },
   "outputs": [
    {
     "data": {
      "text/plain": [
       "Int64Index([    11,     26,     34,     54,     87,     92,     97,    129,\n",
       "               193,    269,\n",
       "            ...\n",
       "            199419, 199421, 199433, 199442, 199476, 199487, 199500, 199507,\n",
       "            199515, 199522],\n",
       "           dtype='int64', length=6713)"
      ]
     },
     "execution_count": 162,
     "metadata": {},
     "output_type": "execute_result"
    }
   ],
   "source": [
    "# index of Father's birth origin where the values are null\n",
    "index_birth_father=census1[census1['country_of_birth_father'].isnull()].index\n",
    "index_birth_father"
   ]
  },
  {
   "cell_type": "code",
   "execution_count": 163,
   "metadata": {},
   "outputs": [],
   "source": [
    "# Replacing the null values with the mother's birth origin"
   ]
  },
  {
   "cell_type": "code",
   "execution_count": null,
   "metadata": {},
   "outputs": [],
   "source": [
    "for i in index_birth_father:\n",
    "    census1.country_of_birth_father[i]=census1.country_of_birth_mother[i]"
   ]
  },
  {
   "cell_type": "code",
   "execution_count": 49,
   "metadata": {},
   "outputs": [
    {
     "data": {
      "text/plain": [
       "4879"
      ]
     },
     "execution_count": 49,
     "metadata": {},
     "output_type": "execute_result"
    }
   ],
   "source": [
    "census1['country_of_birth_father'].isnull().sum()"
   ]
  },
  {
   "cell_type": "code",
   "execution_count": 50,
   "metadata": {},
   "outputs": [],
   "source": [
    "# REPLACE COUNTRY OF BIRTH MOTHER WITH FATHER"
   ]
  },
  {
   "cell_type": "code",
   "execution_count": 51,
   "metadata": {},
   "outputs": [
    {
     "data": {
      "text/plain": [
       "6119"
      ]
     },
     "execution_count": 51,
     "metadata": {},
     "output_type": "execute_result"
    }
   ],
   "source": [
    "census1['country_of_birth_mother'].isnull().sum()"
   ]
  },
  {
   "cell_type": "code",
   "execution_count": 53,
   "metadata": {},
   "outputs": [
    {
     "data": {
      "text/plain": [
       "Int64Index([    11,     26,     54,     87,     92,     97,    129,    137,\n",
       "               193,    217,\n",
       "            ...\n",
       "            199290, 199326, 199348, 199358, 199419, 199433, 199442, 199487,\n",
       "            199507, 199522],\n",
       "           dtype='int64', length=6119)"
      ]
     },
     "execution_count": 53,
     "metadata": {},
     "output_type": "execute_result"
    }
   ],
   "source": [
    "index_birth_mother=census1[census1['country_of_birth_mother'].isnull()].index\n",
    "index_birth_mother"
   ]
  },
  {
   "cell_type": "code",
   "execution_count": 54,
   "metadata": {},
   "outputs": [
    {
     "name": "stderr",
     "output_type": "stream",
     "text": [
      "C:\\Users\\yash2\\Anaconda3\\lib\\site-packages\\ipykernel_launcher.py:2: SettingWithCopyWarning: \n",
      "A value is trying to be set on a copy of a slice from a DataFrame\n",
      "\n",
      "See the caveats in the documentation: http://pandas.pydata.org/pandas-docs/stable/indexing.html#indexing-view-versus-copy\n",
      "  \n"
     ]
    }
   ],
   "source": [
    "for i in index_birth_mother:\n",
    "    census1.country_of_birth_mother[i]=census1.country_of_birth_father[i]"
   ]
  },
  {
   "cell_type": "code",
   "execution_count": 55,
   "metadata": {},
   "outputs": [
    {
     "data": {
      "text/plain": [
       "4879"
      ]
     },
     "execution_count": 55,
     "metadata": {},
     "output_type": "execute_result"
    }
   ],
   "source": [
    "census1['country_of_birth_mother'].isnull().sum()"
   ]
  },
  {
   "cell_type": "code",
   "execution_count": 56,
   "metadata": {},
   "outputs": [],
   "source": [
    "# REPLACE COUNTRY OF BIRTH FATHER WITH SELF"
   ]
  },
  {
   "cell_type": "code",
   "execution_count": 57,
   "metadata": {},
   "outputs": [
    {
     "data": {
      "text/plain": [
       "Int64Index([    11,     26,     54,     87,     92,     97,    129,    193,\n",
       "               287,    331,\n",
       "            ...\n",
       "            199290, 199326, 199348, 199358, 199419, 199433, 199442, 199487,\n",
       "            199507, 199522],\n",
       "           dtype='int64', length=4879)"
      ]
     },
     "execution_count": 57,
     "metadata": {},
     "output_type": "execute_result"
    }
   ],
   "source": [
    "index_birth_father=census1[census1['country_of_birth_father'].isnull()].index\n",
    "index_birth_father"
   ]
  },
  {
   "cell_type": "code",
   "execution_count": 58,
   "metadata": {},
   "outputs": [
    {
     "name": "stderr",
     "output_type": "stream",
     "text": [
      "C:\\Users\\yash2\\Anaconda3\\lib\\site-packages\\ipykernel_launcher.py:2: SettingWithCopyWarning: \n",
      "A value is trying to be set on a copy of a slice from a DataFrame\n",
      "\n",
      "See the caveats in the documentation: http://pandas.pydata.org/pandas-docs/stable/indexing.html#indexing-view-versus-copy\n",
      "  \n"
     ]
    }
   ],
   "source": [
    "for i in index_birth_father:\n",
    "    census1.country_of_birth_father[i]=census1.country_of_birth_self[i]"
   ]
  },
  {
   "cell_type": "code",
   "execution_count": 59,
   "metadata": {},
   "outputs": [
    {
     "data": {
      "text/plain": [
       "2813"
      ]
     },
     "execution_count": 59,
     "metadata": {},
     "output_type": "execute_result"
    }
   ],
   "source": [
    "census1['country_of_birth_father'].isnull().sum()"
   ]
  },
  {
   "cell_type": "code",
   "execution_count": 60,
   "metadata": {},
   "outputs": [],
   "source": [
    "# REPLACE COUNTRY OF BIRTH MOTHER WITH SELF"
   ]
  },
  {
   "cell_type": "code",
   "execution_count": 62,
   "metadata": {},
   "outputs": [
    {
     "data": {
      "text/plain": [
       "Int64Index([    11,     26,     54,     87,     92,     97,    129,    193,\n",
       "               287,    331,\n",
       "            ...\n",
       "            199290, 199326, 199348, 199358, 199419, 199433, 199442, 199487,\n",
       "            199507, 199522],\n",
       "           dtype='int64', length=4879)"
      ]
     },
     "execution_count": 62,
     "metadata": {},
     "output_type": "execute_result"
    }
   ],
   "source": [
    "index_birth_mother=census1[census1['country_of_birth_mother'].isnull()].index\n",
    "index_birth_mother"
   ]
  },
  {
   "cell_type": "code",
   "execution_count": 64,
   "metadata": {},
   "outputs": [
    {
     "name": "stderr",
     "output_type": "stream",
     "text": [
      "C:\\Users\\yash2\\Anaconda3\\lib\\site-packages\\ipykernel_launcher.py:2: SettingWithCopyWarning: \n",
      "A value is trying to be set on a copy of a slice from a DataFrame\n",
      "\n",
      "See the caveats in the documentation: http://pandas.pydata.org/pandas-docs/stable/indexing.html#indexing-view-versus-copy\n",
      "  \n"
     ]
    }
   ],
   "source": [
    "for i in index_birth_mother:\n",
    "    census1.country_of_birth_mother[i]=census1.country_of_birth_self[i]"
   ]
  },
  {
   "cell_type": "code",
   "execution_count": 65,
   "metadata": {},
   "outputs": [
    {
     "data": {
      "text/plain": [
       "2813"
      ]
     },
     "execution_count": 65,
     "metadata": {},
     "output_type": "execute_result"
    }
   ],
   "source": [
    "census1['country_of_birth_mother'].isnull().sum()"
   ]
  },
  {
   "cell_type": "code",
   "execution_count": 66,
   "metadata": {},
   "outputs": [
    {
     "data": {
      "text/html": [
       "<div>\n",
       "<style scoped>\n",
       "    .dataframe tbody tr th:only-of-type {\n",
       "        vertical-align: middle;\n",
       "    }\n",
       "\n",
       "    .dataframe tbody tr th {\n",
       "        vertical-align: top;\n",
       "    }\n",
       "\n",
       "    .dataframe thead th {\n",
       "        text-align: right;\n",
       "    }\n",
       "</style>\n",
       "<table border=\"1\" class=\"dataframe\">\n",
       "  <thead>\n",
       "    <tr style=\"text-align: right;\">\n",
       "      <th></th>\n",
       "      <th>Total_numbers</th>\n",
       "      <th>Percent_missing</th>\n",
       "    </tr>\n",
       "  </thead>\n",
       "  <tbody>\n",
       "    <tr>\n",
       "      <th>country_of_birth_self</th>\n",
       "      <td>3393</td>\n",
       "      <td>1.700556</td>\n",
       "    </tr>\n",
       "    <tr>\n",
       "      <th>country_of_birth_mother</th>\n",
       "      <td>2813</td>\n",
       "      <td>1.409863</td>\n",
       "    </tr>\n",
       "    <tr>\n",
       "      <th>country_of_birth_father</th>\n",
       "      <td>2813</td>\n",
       "      <td>1.409863</td>\n",
       "    </tr>\n",
       "    <tr>\n",
       "      <th>state_of_previous_residence</th>\n",
       "      <td>708</td>\n",
       "      <td>0.354846</td>\n",
       "    </tr>\n",
       "  </tbody>\n",
       "</table>\n",
       "</div>"
      ],
      "text/plain": [
       "                             Total_numbers  Percent_missing\n",
       "country_of_birth_self                 3393         1.700556\n",
       "country_of_birth_mother               2813         1.409863\n",
       "country_of_birth_father               2813         1.409863\n",
       "state_of_previous_residence            708         0.354846"
      ]
     },
     "execution_count": 66,
     "metadata": {},
     "output_type": "execute_result"
    }
   ],
   "source": [
    "percent_null(census1).head(4)"
   ]
  },
  {
   "cell_type": "code",
   "execution_count": 67,
   "metadata": {},
   "outputs": [],
   "source": [
    "# DEALING WITH COUNTRY OF BIRTH SELF"
   ]
  },
  {
   "cell_type": "code",
   "execution_count": 68,
   "metadata": {},
   "outputs": [
    {
     "data": {
      "text/plain": [
       "Foreign born- Not a citizen of U S             1972\n",
       "Foreign born- U S citizen by naturalization    1046\n",
       "Native- Born abroad of American Parent(s)       375\n",
       "Name: citizenship, dtype: int64"
      ]
     },
     "execution_count": 68,
     "metadata": {},
     "output_type": "execute_result"
    }
   ],
   "source": [
    "census1[census1['country_of_birth_self'].isnull()]['citizenship'].value_counts()"
   ]
  },
  {
   "cell_type": "code",
   "execution_count": 69,
   "metadata": {},
   "outputs": [],
   "source": [
    "# IT CANT BE UNITED STATES"
   ]
  },
  {
   "cell_type": "code",
   "execution_count": 70,
   "metadata": {},
   "outputs": [
    {
     "data": {
      "text/plain": [
       "Int64Index([    11,     87,     92,    129,    193,    287,    367,    385,\n",
       "               458,    711,\n",
       "            ...\n",
       "            199146, 199197, 199263, 199264, 199265, 199358, 199433, 199442,\n",
       "            199507, 199522],\n",
       "           dtype='int64', length=3393)"
      ]
     },
     "execution_count": 70,
     "metadata": {},
     "output_type": "execute_result"
    }
   ],
   "source": [
    "index_birth_self=census1[(census1['country_of_birth_self'].isnull())&(census1['country_of_birth_father']!=' United-States')].index\n",
    "index_birth_self"
   ]
  },
  {
   "cell_type": "code",
   "execution_count": 71,
   "metadata": {},
   "outputs": [
    {
     "name": "stderr",
     "output_type": "stream",
     "text": [
      "C:\\Users\\yash2\\Anaconda3\\lib\\site-packages\\ipykernel_launcher.py:2: SettingWithCopyWarning: \n",
      "A value is trying to be set on a copy of a slice from a DataFrame\n",
      "\n",
      "See the caveats in the documentation: http://pandas.pydata.org/pandas-docs/stable/indexing.html#indexing-view-versus-copy\n",
      "  \n"
     ]
    }
   ],
   "source": [
    "for i in index_birth_self:\n",
    "    census1.country_of_birth_self[i]=census1.country_of_birth_father[i]"
   ]
  },
  {
   "cell_type": "code",
   "execution_count": 72,
   "metadata": {},
   "outputs": [
    {
     "data": {
      "text/plain": [
       "2813"
      ]
     },
     "execution_count": 72,
     "metadata": {},
     "output_type": "execute_result"
    }
   ],
   "source": [
    "census1['country_of_birth_self'].isnull().sum()"
   ]
  },
  {
   "cell_type": "code",
   "execution_count": 76,
   "metadata": {},
   "outputs": [
    {
     "data": {
      "text/plain": [
       "Int64Index([    11,     87,     92,    129,    193,    287,    367,    385,\n",
       "               458,    711,\n",
       "            ...\n",
       "            199091, 199146, 199197, 199264, 199265, 199358, 199433, 199442,\n",
       "            199507, 199522],\n",
       "           dtype='int64', length=2813)"
      ]
     },
     "execution_count": 76,
     "metadata": {},
     "output_type": "execute_result"
    }
   ],
   "source": [
    "index_birth_self=census1[(census1['country_of_birth_self'].isnull())&(census1['country_of_birth_mother']!=' United-States')].index\n",
    "index_birth_self"
   ]
  },
  {
   "cell_type": "code",
   "execution_count": 77,
   "metadata": {},
   "outputs": [
    {
     "name": "stderr",
     "output_type": "stream",
     "text": [
      "C:\\Users\\yash2\\Anaconda3\\lib\\site-packages\\ipykernel_launcher.py:2: SettingWithCopyWarning: \n",
      "A value is trying to be set on a copy of a slice from a DataFrame\n",
      "\n",
      "See the caveats in the documentation: http://pandas.pydata.org/pandas-docs/stable/indexing.html#indexing-view-versus-copy\n",
      "  \n"
     ]
    }
   ],
   "source": [
    "for i in index_birth_self:\n",
    "    census1.country_of_birth_self[i]=census1.country_of_birth_mother[i]"
   ]
  },
  {
   "cell_type": "code",
   "execution_count": 78,
   "metadata": {},
   "outputs": [
    {
     "data": {
      "text/plain": [
       "2813"
      ]
     },
     "execution_count": 78,
     "metadata": {},
     "output_type": "execute_result"
    }
   ],
   "source": [
    "census1['country_of_birth_self'].isnull().sum()"
   ]
  },
  {
   "cell_type": "code",
   "execution_count": 79,
   "metadata": {},
   "outputs": [
    {
     "data": {
      "text/html": [
       "<div>\n",
       "<style scoped>\n",
       "    .dataframe tbody tr th:only-of-type {\n",
       "        vertical-align: middle;\n",
       "    }\n",
       "\n",
       "    .dataframe tbody tr th {\n",
       "        vertical-align: top;\n",
       "    }\n",
       "\n",
       "    .dataframe thead th {\n",
       "        text-align: right;\n",
       "    }\n",
       "</style>\n",
       "<table border=\"1\" class=\"dataframe\">\n",
       "  <thead>\n",
       "    <tr style=\"text-align: right;\">\n",
       "      <th></th>\n",
       "      <th>Total_numbers</th>\n",
       "      <th>Percent_missing</th>\n",
       "    </tr>\n",
       "  </thead>\n",
       "  <tbody>\n",
       "    <tr>\n",
       "      <th>country_of_birth_self</th>\n",
       "      <td>2813</td>\n",
       "      <td>1.409863</td>\n",
       "    </tr>\n",
       "    <tr>\n",
       "      <th>country_of_birth_mother</th>\n",
       "      <td>2813</td>\n",
       "      <td>1.409863</td>\n",
       "    </tr>\n",
       "    <tr>\n",
       "      <th>country_of_birth_father</th>\n",
       "      <td>2813</td>\n",
       "      <td>1.409863</td>\n",
       "    </tr>\n",
       "    <tr>\n",
       "      <th>state_of_previous_residence</th>\n",
       "      <td>708</td>\n",
       "      <td>0.354846</td>\n",
       "    </tr>\n",
       "  </tbody>\n",
       "</table>\n",
       "</div>"
      ],
      "text/plain": [
       "                             Total_numbers  Percent_missing\n",
       "country_of_birth_self                 2813         1.409863\n",
       "country_of_birth_mother               2813         1.409863\n",
       "country_of_birth_father               2813         1.409863\n",
       "state_of_previous_residence            708         0.354846"
      ]
     },
     "execution_count": 79,
     "metadata": {},
     "output_type": "execute_result"
    }
   ],
   "source": [
    "percent_null(census1).head(4)"
   ]
  },
  {
   "cell_type": "code",
   "execution_count": 80,
   "metadata": {},
   "outputs": [
    {
     "data": {
      "text/plain": [
       "Not in universe         183750\n",
       "California                1714\n",
       "Utah                      1063\n",
       "Florida                    849\n",
       "North Carolina             812\n",
       "Abroad                     671\n",
       "Oklahoma                   626\n",
       "Minnesota                  576\n",
       "Indiana                    533\n",
       "North Dakota               499\n",
       "New Mexico                 463\n",
       "Michigan                   441\n",
       "Alaska                     290\n",
       "Kentucky                   244\n",
       "Arizona                    243\n",
       "New Hampshire              242\n",
       "Wyoming                    241\n",
       "Colorado                   239\n",
       "Oregon                     236\n",
       "West Virginia              231\n",
       "Georgia                    227\n",
       "Montana                    226\n",
       "Alabama                    216\n",
       "Ohio                       211\n",
       "Texas                      209\n",
       "Arkansas                   205\n",
       "Mississippi                204\n",
       "Tennessee                  202\n",
       "Pennsylvania               199\n",
       "New York                   195\n",
       "Louisiana                  192\n",
       "Vermont                    191\n",
       "Iowa                       189\n",
       "Illinois                   180\n",
       "Nebraska                   178\n",
       "Missouri                   175\n",
       "Nevada                     174\n",
       "Maine                      167\n",
       "Massachusetts              151\n",
       "Kansas                     149\n",
       "South Dakota               138\n",
       "Maryland                   136\n",
       "Virginia                   126\n",
       "Connecticut                117\n",
       "District of Columbia       116\n",
       "Wisconsin                  105\n",
       "South Carolina              95\n",
       "New Jersey                  75\n",
       "Delaware                    73\n",
       "Idaho                       31\n",
       "Name: state_of_previous_residence, dtype: int64"
      ]
     },
     "execution_count": 80,
     "metadata": {},
     "output_type": "execute_result"
    }
   ],
   "source": [
    "census1['state_of_previous_residence'].value_counts()"
   ]
  },
  {
   "cell_type": "code",
   "execution_count": 81,
   "metadata": {},
   "outputs": [],
   "source": [
    "census1['state_of_previous_residence'].fillna('Not in universe',inplace=True)"
   ]
  },
  {
   "cell_type": "code",
   "execution_count": 82,
   "metadata": {},
   "outputs": [
    {
     "data": {
      "text/plain": [
       "United-States                   163190\n",
       "Mexico                            9799\n",
       "Puerto-Rico                       2486\n",
       "Italy                             1879\n",
       "Canada                            1488\n",
       "Germany                           1464\n",
       "Philippines                       1232\n",
       "Poland                            1173\n",
       "Cuba                              1158\n",
       "El-Salvador                       1117\n",
       "Dominican-Republic                1109\n",
       "England                            933\n",
       "China                              779\n",
       "Columbia                           627\n",
       "South Korea                        612\n",
       "India                              604\n",
       "Ireland                            603\n",
       "Vietnam                            476\n",
       "Japan                              474\n",
       "Jamaica                            462\n",
       "Guatemala                          449\n",
       "Ecuador                            384\n",
       "Peru                               365\n",
       "Haiti                              356\n",
       "Portugal                           349\n",
       "Hungary                            318\n",
       "Nicaragua                          310\n",
       "Greece                             271\n",
       "Scotland                           246\n",
       "France                             232\n",
       "Taiwan                             223\n",
       "Honduras                           223\n",
       "Iran                               207\n",
       "Yugoslavia                         185\n",
       "Outlying-U S (Guam USVI etc)       171\n",
       "Cambodia                           170\n",
       "Laos                               155\n",
       "Thailand                           127\n",
       "Hong Kong                          114\n",
       "Trinadad&Tobago                    104\n",
       "Holand-Netherlands                  52\n",
       "Panama                              34\n",
       "Name: country_of_birth_mother, dtype: int64"
      ]
     },
     "execution_count": 82,
     "metadata": {},
     "output_type": "execute_result"
    }
   ],
   "source": [
    "census1['country_of_birth_mother'].value_counts()"
   ]
  },
  {
   "cell_type": "code",
   "execution_count": 83,
   "metadata": {},
   "outputs": [],
   "source": [
    "census1['country_of_birth_mother'].fillna('United-States',inplace=True)"
   ]
  },
  {
   "cell_type": "code",
   "execution_count": 84,
   "metadata": {},
   "outputs": [
    {
     "data": {
      "text/plain": [
       "United-States                   162324\n",
       "Mexico                           10041\n",
       "Puerto-Rico                       2711\n",
       "Italy                             2236\n",
       "Canada                            1453\n",
       "Germany                           1435\n",
       "Dominican-Republic                1301\n",
       "Poland                            1278\n",
       "Cuba                              1209\n",
       "Philippines                       1164\n",
       "El-Salvador                        999\n",
       "China                              871\n",
       "England                            837\n",
       "Columbia                           633\n",
       "India                              609\n",
       "South Korea                        533\n",
       "Ireland                            524\n",
       "Jamaica                            477\n",
       "Vietnam                            459\n",
       "Guatemala                          453\n",
       "Japan                              397\n",
       "Portugal                           394\n",
       "Ecuador                            385\n",
       "Haiti                              357\n",
       "Greece                             349\n",
       "Peru                               343\n",
       "Hungary                            334\n",
       "Nicaragua                          323\n",
       "Scotland                           261\n",
       "Iran                               237\n",
       "Yugoslavia                         226\n",
       "France                             213\n",
       "Taiwan                             199\n",
       "Honduras                           199\n",
       "Cambodia                           197\n",
       "Outlying-U S (Guam USVI etc)       177\n",
       "Laos                               154\n",
       "Trinadad&Tobago                    116\n",
       "Thailand                           113\n",
       "Hong Kong                          108\n",
       "Holand-Netherlands                  54\n",
       "Panama                              27\n",
       "Name: country_of_birth_father, dtype: int64"
      ]
     },
     "execution_count": 84,
     "metadata": {},
     "output_type": "execute_result"
    }
   ],
   "source": [
    "census1['country_of_birth_father'].value_counts()"
   ]
  },
  {
   "cell_type": "code",
   "execution_count": 85,
   "metadata": {},
   "outputs": [],
   "source": [
    "census1['country_of_birth_father'].fillna('United-States',inplace=True)"
   ]
  },
  {
   "cell_type": "code",
   "execution_count": 86,
   "metadata": {},
   "outputs": [
    {
     "data": {
      "text/plain": [
       "United-States                   177215\n",
       "Mexico                            5775\n",
       "Puerto-Rico                       1414\n",
       "Germany                            878\n",
       "Philippines                        847\n",
       "Cuba                               842\n",
       "Canada                             706\n",
       "Dominican-Republic                 694\n",
       "El-Salvador                        694\n",
       "China                              502\n",
       "South Korea                        484\n",
       "England                            466\n",
       "Columbia                           451\n",
       "Italy                              449\n",
       "India                              448\n",
       "Poland                             407\n",
       "Vietnam                            394\n",
       "Guatemala                          344\n",
       "Japan                              340\n",
       "Jamaica                            324\n",
       "Peru                               273\n",
       "Ecuador                            265\n",
       "Haiti                              231\n",
       "Nicaragua                          223\n",
       "Taiwan                             201\n",
       "Portugal                           179\n",
       "Iran                               167\n",
       "Greece                             153\n",
       "Honduras                           148\n",
       "Ireland                            138\n",
       "France                             132\n",
       "Outlying-U S (Guam USVI etc)       128\n",
       "Thailand                           114\n",
       "Cambodia                           107\n",
       "Laos                               105\n",
       "Hong Kong                          102\n",
       "Hungary                             97\n",
       "Scotland                            77\n",
       "Yugoslavia                          72\n",
       "Trinadad&Tobago                     68\n",
       "Panama                              30\n",
       "Holand-Netherlands                  26\n",
       "Name: country_of_birth_self, dtype: int64"
      ]
     },
     "execution_count": 86,
     "metadata": {},
     "output_type": "execute_result"
    }
   ],
   "source": [
    "census1['country_of_birth_self'].value_counts()"
   ]
  },
  {
   "cell_type": "code",
   "execution_count": 87,
   "metadata": {},
   "outputs": [
    {
     "data": {
      "text/plain": [
       "2813"
      ]
     },
     "execution_count": 87,
     "metadata": {},
     "output_type": "execute_result"
    }
   ],
   "source": [
    "census1['country_of_birth_self'].isnull().sum()"
   ]
  },
  {
   "cell_type": "code",
   "execution_count": 88,
   "metadata": {},
   "outputs": [],
   "source": [
    "census1['country_of_birth_self'].fillna('United-States',inplace=True)"
   ]
  },
  {
   "cell_type": "code",
   "execution_count": 89,
   "metadata": {},
   "outputs": [
    {
     "data": {
      "text/html": [
       "<div>\n",
       "<style scoped>\n",
       "    .dataframe tbody tr th:only-of-type {\n",
       "        vertical-align: middle;\n",
       "    }\n",
       "\n",
       "    .dataframe tbody tr th {\n",
       "        vertical-align: top;\n",
       "    }\n",
       "\n",
       "    .dataframe thead th {\n",
       "        text-align: right;\n",
       "    }\n",
       "</style>\n",
       "<table border=\"1\" class=\"dataframe\">\n",
       "  <thead>\n",
       "    <tr style=\"text-align: right;\">\n",
       "      <th></th>\n",
       "      <th>Total_numbers</th>\n",
       "      <th>Percent_missing</th>\n",
       "    </tr>\n",
       "  </thead>\n",
       "  <tbody>\n",
       "    <tr>\n",
       "      <th>income</th>\n",
       "      <td>0</td>\n",
       "      <td>0.0</td>\n",
       "    </tr>\n",
       "    <tr>\n",
       "      <th>major_occupation_code</th>\n",
       "      <td>0</td>\n",
       "      <td>0.0</td>\n",
       "    </tr>\n",
       "    <tr>\n",
       "      <th>capital_gains</th>\n",
       "      <td>0</td>\n",
       "      <td>0.0</td>\n",
       "    </tr>\n",
       "    <tr>\n",
       "      <th>full_or_part_time_employment_stat</th>\n",
       "      <td>0</td>\n",
       "      <td>0.0</td>\n",
       "    </tr>\n",
       "  </tbody>\n",
       "</table>\n",
       "</div>"
      ],
      "text/plain": [
       "                                   Total_numbers  Percent_missing\n",
       "income                                         0              0.0\n",
       "major_occupation_code                          0              0.0\n",
       "capital_gains                                  0              0.0\n",
       "full_or_part_time_employment_stat              0              0.0"
      ]
     },
     "execution_count": 89,
     "metadata": {},
     "output_type": "execute_result"
    }
   ],
   "source": [
    "percent_null(census1).head(4)"
   ]
  },
  {
   "cell_type": "code",
   "execution_count": 90,
   "metadata": {},
   "outputs": [],
   "source": [
    "# ALL NULL TREATED"
   ]
  },
  {
   "cell_type": "code",
   "execution_count": 91,
   "metadata": {},
   "outputs": [],
   "source": [
    "# DROPPING INSIGNIFICANT COLUMNS"
   ]
  },
  {
   "cell_type": "code",
   "execution_count": 92,
   "metadata": {},
   "outputs": [],
   "source": [
    "census2=census1.copy()"
   ]
  },
  {
   "cell_type": "code",
   "execution_count": 93,
   "metadata": {},
   "outputs": [
    {
     "data": {
      "text/plain": [
       "array(['- 50000.', '50000+.'], dtype=object)"
      ]
     },
     "execution_count": 93,
     "metadata": {},
     "output_type": "execute_result"
    }
   ],
   "source": [
    "census2['income'].unique()"
   ]
  },
  {
   "cell_type": "code",
   "execution_count": 94,
   "metadata": {},
   "outputs": [],
   "source": [
    "census2['income']=census2['income'].map({'- 50000.':0,'50000+.':1})"
   ]
  },
  {
   "cell_type": "code",
   "execution_count": 97,
   "metadata": {},
   "outputs": [
    {
     "data": {
      "text/plain": [
       "age                                0.135720\n",
       "detailed_industry_recode           0.196190\n",
       "detailed_occupation_recode         0.013414\n",
       "wage_per_hour                      0.024528\n",
       "capital_gains                      0.240725\n",
       "capital_losses                     0.147417\n",
       "dividends_from_stocks              0.175779\n",
       "instance_weight                    0.014463\n",
       "num_persons_worked_for_employer    0.222684\n",
       "own_business_or_self_employed      0.040473\n",
       "veterans_benefits                  0.140930\n",
       "weeks_worked_in_year               0.262316\n",
       "year                               0.014794\n",
       "income                             1.000000\n",
       "Name: income, dtype: float64"
      ]
     },
     "execution_count": 97,
     "metadata": {},
     "output_type": "execute_result"
    }
   ],
   "source": [
    "census2.corr()['income']"
   ]
  },
  {
   "cell_type": "code",
   "execution_count": 100,
   "metadata": {},
   "outputs": [
    {
     "data": {
      "text/plain": [
       "<matplotlib.axes._subplots.AxesSubplot at 0x1f1061bd630>"
      ]
     },
     "execution_count": 100,
     "metadata": {},
     "output_type": "execute_result"
    },
    {
     "data": {
      "image/png": "[encoded data removed]",
      "text/plain": [
       "<Figure size 1080x1080 with 2 Axes>"
      ]
     },
     "metadata": {
      "needs_background": "light"
     },
     "output_type": "display_data"
    }
   ],
   "source": [
    "plt.figure(figsize = (15,15))\n",
    "sns.heatmap(census2.corr(), annot = True)"
   ]
  },
  {
   "cell_type": "code",
   "execution_count": 101,
   "metadata": {},
   "outputs": [],
   "source": [
    "# dropping year, instance weight, and detailed occupation recode"
   ]
  },
  {
   "cell_type": "code",
   "execution_count": 102,
   "metadata": {},
   "outputs": [],
   "source": [
    "census2.drop(['year','instance_weight','detailed_occupation_recode'],axis=1,inplace=True)"
   ]
  },
  {
   "cell_type": "code",
   "execution_count": 103,
   "metadata": {},
   "outputs": [],
   "source": [
    "import statsmodels.api   as  sm"
   ]
  },
  {
   "cell_type": "code",
   "execution_count": 105,
   "metadata": {},
   "outputs": [
    {
     "name": "stdout",
     "output_type": "stream",
     "text": [
      "                                                   sum_sq        df  \\\n",
      "C(class_of_worker)                               0.017998       8.0   \n",
      "C(education)                                   539.270390      16.0   \n",
      "C(enroll_in_edu_inst_last_wk)                    0.992995       2.0   \n",
      "C(marital_stat)                                 10.190826       6.0   \n",
      "C(major_industry_code)                           0.051745      23.0   \n",
      "C(major_occupation_code)                         0.031497      14.0   \n",
      "C(race)                                          0.995615       4.0   \n",
      "C(hispanic_origin)                               0.771933       9.0   \n",
      "C(sex)                                          51.683711       1.0   \n",
      "C(member_of_a_labor_union)                       0.933892       2.0   \n",
      "C(reason_for_unemployment)                       0.011249       5.0   \n",
      "C(full_or_part_time_employment_stat)             2.362305       7.0   \n",
      "C(tax_filer_stat)                                8.768942       5.0   \n",
      "C(region_of_previous_residence)                  0.011249       5.0   \n",
      "C(state_of_previous_residence)                   0.110239      49.0   \n",
      "C(detailed_household_and_family_stat)            0.083241      37.0   \n",
      "C(detailed_household_summary_in_household)       0.015748       7.0   \n",
      "C(live_in_this_house_1_year_ago)                 0.004500       2.0   \n",
      "C(family_members_under_18)                       0.008999       4.0   \n",
      "C(country_of_birth_father)                       3.294040      41.0   \n",
      "C(country_of_birth_mother)                       2.723872      41.0   \n",
      "C(country_of_birth_self)                         2.769733      41.0   \n",
      "C(citizenship)                                   0.730361       4.0   \n",
      "C(fill_inc_questionnaire_for_veterans_admin)     1.495062       2.0   \n",
      "Residual                                      8751.395362  199197.0   \n",
      "\n",
      "                                                        F         PR(>F)  \n",
      "C(class_of_worker)                               0.051209   8.209735e-01  \n",
      "C(education)                                   767.170830   0.000000e+00  \n",
      "C(enroll_in_edu_inst_last_wk)                   11.301144   1.236670e-05  \n",
      "C(marital_stat)                                 38.660159   3.117840e-47  \n",
      "C(major_industry_code)                           0.051209   8.209735e-01  \n",
      "C(major_occupation_code)                         0.051209   8.209735e-01  \n",
      "C(race)                                          5.665484   1.479978e-04  \n",
      "C(hispanic_origin)                               1.952282   4.050209e-02  \n",
      "C(sex)                                        1176.411282  4.618242e-257  \n",
      "C(member_of_a_labor_union)                      10.628501   2.422965e-05  \n",
      "C(reason_for_unemployment)                       0.051209   8.209735e-01  \n",
      "C(full_or_part_time_employment_stat)             7.681453   2.619197e-09  \n",
      "C(tax_filer_stat)                               39.919281   3.637528e-41  \n",
      "C(region_of_previous_residence)                  0.051209   8.209735e-01  \n",
      "C(state_of_previous_residence)                   0.051209   8.209735e-01  \n",
      "C(detailed_household_and_family_stat)            0.051209   8.209735e-01  \n",
      "C(detailed_household_summary_in_household)       0.051209   8.209735e-01  \n",
      "C(live_in_this_house_1_year_ago)                 0.051209   8.209735e-01  \n",
      "C(family_members_under_18)                       0.051209   8.209735e-01  \n",
      "C(country_of_birth_father)                       1.828734   9.446263e-04  \n",
      "C(country_of_birth_mother)                       1.512197   1.868745e-02  \n",
      "C(country_of_birth_self)                         1.537657   1.504319e-02  \n",
      "C(citizenship)                                   4.156072   2.286915e-03  \n",
      "C(fill_inc_questionnaire_for_veterans_admin)    17.015104   4.083808e-08  \n",
      "Residual                                              NaN            NaN  \n"
     ]
    },
    {
     "name": "stderr",
     "output_type": "stream",
     "text": [
      "C:\\Users\\yash2\\Anaconda3\\lib\\site-packages\\statsmodels\\base\\model.py:1752: ValueWarning: covariance of constraints does not have full rank. The number of constraints is 8, but rank is 1\n",
      "  'rank is %d' % (J, J_), ValueWarning)\n",
      "C:\\Users\\yash2\\Anaconda3\\lib\\site-packages\\statsmodels\\base\\model.py:1752: ValueWarning: covariance of constraints does not have full rank. The number of constraints is 23, but rank is 1\n",
      "  'rank is %d' % (J, J_), ValueWarning)\n",
      "C:\\Users\\yash2\\Anaconda3\\lib\\site-packages\\statsmodels\\base\\model.py:1752: ValueWarning: covariance of constraints does not have full rank. The number of constraints is 14, but rank is 1\n",
      "  'rank is %d' % (J, J_), ValueWarning)\n",
      "C:\\Users\\yash2\\Anaconda3\\lib\\site-packages\\statsmodels\\base\\model.py:1752: ValueWarning: covariance of constraints does not have full rank. The number of constraints is 5, but rank is 1\n",
      "  'rank is %d' % (J, J_), ValueWarning)\n",
      "C:\\Users\\yash2\\Anaconda3\\lib\\site-packages\\statsmodels\\base\\model.py:1752: ValueWarning: covariance of constraints does not have full rank. The number of constraints is 5, but rank is 1\n",
      "  'rank is %d' % (J, J_), ValueWarning)\n",
      "C:\\Users\\yash2\\Anaconda3\\lib\\site-packages\\statsmodels\\base\\model.py:1752: ValueWarning: covariance of constraints does not have full rank. The number of constraints is 49, but rank is 1\n",
      "  'rank is %d' % (J, J_), ValueWarning)\n",
      "C:\\Users\\yash2\\Anaconda3\\lib\\site-packages\\statsmodels\\base\\model.py:1752: ValueWarning: covariance of constraints does not have full rank. The number of constraints is 37, but rank is 1\n",
      "  'rank is %d' % (J, J_), ValueWarning)\n",
      "C:\\Users\\yash2\\Anaconda3\\lib\\site-packages\\statsmodels\\base\\model.py:1752: ValueWarning: covariance of constraints does not have full rank. The number of constraints is 7, but rank is 1\n",
      "  'rank is %d' % (J, J_), ValueWarning)\n",
      "C:\\Users\\yash2\\Anaconda3\\lib\\site-packages\\statsmodels\\base\\model.py:1752: ValueWarning: covariance of constraints does not have full rank. The number of constraints is 2, but rank is 1\n",
      "  'rank is %d' % (J, J_), ValueWarning)\n",
      "C:\\Users\\yash2\\Anaconda3\\lib\\site-packages\\statsmodels\\base\\model.py:1752: ValueWarning: covariance of constraints does not have full rank. The number of constraints is 4, but rank is 1\n",
      "  'rank is %d' % (J, J_), ValueWarning)\n"
     ]
    }
   ],
   "source": [
    "mod = sm.formula.ols('income~C(class_of_worker)+C(education)+C(enroll_in_edu_inst_last_wk)+C(marital_stat)+\\\n",
    "C(major_industry_code)+C(major_occupation_code)+C(race)+C(hispanic_origin)+C(sex)+C(member_of_a_labor_union)+\\\n",
    "C(reason_for_unemployment)+C(full_or_part_time_employment_stat)+C(tax_filer_stat)+C(region_of_previous_residence)+\\\n",
    "C(state_of_previous_residence)+C(detailed_household_and_family_stat)+C(detailed_household_summary_in_household)+\\\n",
    "C(live_in_this_house_1_year_ago)+C(family_members_under_18)+C(country_of_birth_father)+C(country_of_birth_mother)+\\\n",
    "C(country_of_birth_self)+C(citizenship)+C(fill_inc_questionnaire_for_veterans_admin)', data =census2).fit()\n",
    "aov_table = sm.stats.anova_lm(mod, typ=2)\n",
    "print(aov_table)"
   ]
  },
  {
   "cell_type": "code",
   "execution_count": 106,
   "metadata": {},
   "outputs": [],
   "source": [
    "# DROPPING EDUCATION, ENROLL IN EDU, MARITAL STATUS, RACE, SEX, MEMBER OF LABOR, FULL PART, TAX FILTER, COUNTRY FATHER, FILL IN"
   ]
  },
  {
   "cell_type": "code",
   "execution_count": 107,
   "metadata": {},
   "outputs": [
    {
     "data": {
      "text/plain": [
       "Index(['age', 'class_of_worker', 'detailed_industry_recode', 'education',\n",
       "       'wage_per_hour', 'enroll_in_edu_inst_last_wk', 'marital_stat',\n",
       "       'major_industry_code', 'major_occupation_code', 'race',\n",
       "       'hispanic_origin', 'sex', 'member_of_a_labor_union',\n",
       "       'reason_for_unemployment', 'full_or_part_time_employment_stat',\n",
       "       'capital_gains', 'capital_losses', 'dividends_from_stocks',\n",
       "       'tax_filer_stat', 'region_of_previous_residence',\n",
       "       'state_of_previous_residence', 'detailed_household_and_family_stat',\n",
       "       'detailed_household_summary_in_household',\n",
       "       'live_in_this_house_1_year_ago', 'num_persons_worked_for_employer',\n",
       "       'family_members_under_18', 'country_of_birth_father',\n",
       "       'country_of_birth_mother', 'country_of_birth_self', 'citizenship',\n",
       "       'own_business_or_self_employed',\n",
       "       'fill_inc_questionnaire_for_veterans_admin', 'veterans_benefits',\n",
       "       'weeks_worked_in_year', 'income'],\n",
       "      dtype='object')"
      ]
     },
     "execution_count": 107,
     "metadata": {},
     "output_type": "execute_result"
    }
   ],
   "source": [
    "census2.columns"
   ]
  },
  {
   "cell_type": "code",
   "execution_count": 108,
   "metadata": {},
   "outputs": [],
   "source": [
    "census2.drop(['education','enroll_in_edu_inst_last_wk', 'marital_stat','race','sex', 'member_of_a_labor_union',\\\n",
    "   'full_or_part_time_employment_stat','tax_filer_stat',  'country_of_birth_father',\\\n",
    "            'fill_inc_questionnaire_for_veterans_admin' ],axis=1,inplace=True)"
   ]
  },
  {
   "cell_type": "code",
   "execution_count": 109,
   "metadata": {},
   "outputs": [
    {
     "data": {
      "text/html": [
       "<div>\n",
       "<style scoped>\n",
       "    .dataframe tbody tr th:only-of-type {\n",
       "        vertical-align: middle;\n",
       "    }\n",
       "\n",
       "    .dataframe tbody tr th {\n",
       "        vertical-align: top;\n",
       "    }\n",
       "\n",
       "    .dataframe thead th {\n",
       "        text-align: right;\n",
       "    }\n",
       "</style>\n",
       "<table border=\"1\" class=\"dataframe\">\n",
       "  <thead>\n",
       "    <tr style=\"text-align: right;\">\n",
       "      <th></th>\n",
       "      <th>age</th>\n",
       "      <th>class_of_worker</th>\n",
       "      <th>detailed_industry_recode</th>\n",
       "      <th>wage_per_hour</th>\n",
       "      <th>major_industry_code</th>\n",
       "      <th>major_occupation_code</th>\n",
       "      <th>hispanic_origin</th>\n",
       "      <th>reason_for_unemployment</th>\n",
       "      <th>capital_gains</th>\n",
       "      <th>capital_losses</th>\n",
       "      <th>dividends_from_stocks</th>\n",
       "      <th>region_of_previous_residence</th>\n",
       "      <th>state_of_previous_residence</th>\n",
       "      <th>detailed_household_and_family_stat</th>\n",
       "      <th>detailed_household_summary_in_household</th>\n",
       "      <th>live_in_this_house_1_year_ago</th>\n",
       "      <th>num_persons_worked_for_employer</th>\n",
       "      <th>family_members_under_18</th>\n",
       "      <th>country_of_birth_mother</th>\n",
       "      <th>country_of_birth_self</th>\n",
       "      <th>citizenship</th>\n",
       "      <th>own_business_or_self_employed</th>\n",
       "      <th>veterans_benefits</th>\n",
       "      <th>weeks_worked_in_year</th>\n",
       "      <th>income</th>\n",
       "    </tr>\n",
       "  </thead>\n",
       "  <tbody>\n",
       "    <tr>\n",
       "      <th>0</th>\n",
       "      <td>73</td>\n",
       "      <td>Not in universe</td>\n",
       "      <td>0</td>\n",
       "      <td>0</td>\n",
       "      <td>Not in universe or children</td>\n",
       "      <td>Not in universe</td>\n",
       "      <td>All other</td>\n",
       "      <td>Not in universe</td>\n",
       "      <td>0</td>\n",
       "      <td>0</td>\n",
       "      <td>0</td>\n",
       "      <td>Not in universe</td>\n",
       "      <td>Not in universe</td>\n",
       "      <td>Other Rel 18+ ever marr not in subfamily</td>\n",
       "      <td>Other relative of householder</td>\n",
       "      <td>Not in universe under 1 year old</td>\n",
       "      <td>0</td>\n",
       "      <td>Not in universe</td>\n",
       "      <td>United-States</td>\n",
       "      <td>United-States</td>\n",
       "      <td>Native- Born in the United States</td>\n",
       "      <td>0</td>\n",
       "      <td>2</td>\n",
       "      <td>0</td>\n",
       "      <td>0</td>\n",
       "    </tr>\n",
       "    <tr>\n",
       "      <th>1</th>\n",
       "      <td>58</td>\n",
       "      <td>Self-employed-not incorporated</td>\n",
       "      <td>4</td>\n",
       "      <td>0</td>\n",
       "      <td>Construction</td>\n",
       "      <td>Precision production craft &amp; repair</td>\n",
       "      <td>All other</td>\n",
       "      <td>Not in universe</td>\n",
       "      <td>0</td>\n",
       "      <td>0</td>\n",
       "      <td>0</td>\n",
       "      <td>South</td>\n",
       "      <td>Arkansas</td>\n",
       "      <td>Householder</td>\n",
       "      <td>Householder</td>\n",
       "      <td>No</td>\n",
       "      <td>1</td>\n",
       "      <td>Not in universe</td>\n",
       "      <td>United-States</td>\n",
       "      <td>United-States</td>\n",
       "      <td>Native- Born in the United States</td>\n",
       "      <td>0</td>\n",
       "      <td>2</td>\n",
       "      <td>52</td>\n",
       "      <td>0</td>\n",
       "    </tr>\n",
       "    <tr>\n",
       "      <th>2</th>\n",
       "      <td>18</td>\n",
       "      <td>Not in universe</td>\n",
       "      <td>0</td>\n",
       "      <td>0</td>\n",
       "      <td>Not in universe or children</td>\n",
       "      <td>Not in universe</td>\n",
       "      <td>All other</td>\n",
       "      <td>Not in universe</td>\n",
       "      <td>0</td>\n",
       "      <td>0</td>\n",
       "      <td>0</td>\n",
       "      <td>Not in universe</td>\n",
       "      <td>Not in universe</td>\n",
       "      <td>Child 18+ never marr Not in a subfamily</td>\n",
       "      <td>Child 18 or older</td>\n",
       "      <td>Not in universe under 1 year old</td>\n",
       "      <td>0</td>\n",
       "      <td>Not in universe</td>\n",
       "      <td>Vietnam</td>\n",
       "      <td>Vietnam</td>\n",
       "      <td>Foreign born- Not a citizen of U S</td>\n",
       "      <td>0</td>\n",
       "      <td>2</td>\n",
       "      <td>0</td>\n",
       "      <td>0</td>\n",
       "    </tr>\n",
       "    <tr>\n",
       "      <th>3</th>\n",
       "      <td>9</td>\n",
       "      <td>Not in universe</td>\n",
       "      <td>0</td>\n",
       "      <td>0</td>\n",
       "      <td>Not in universe or children</td>\n",
       "      <td>Not in universe</td>\n",
       "      <td>All other</td>\n",
       "      <td>Not in universe</td>\n",
       "      <td>0</td>\n",
       "      <td>0</td>\n",
       "      <td>0</td>\n",
       "      <td>Not in universe</td>\n",
       "      <td>Not in universe</td>\n",
       "      <td>Child &lt;18 never marr not in subfamily</td>\n",
       "      <td>Child under 18 never married</td>\n",
       "      <td>Yes</td>\n",
       "      <td>0</td>\n",
       "      <td>Both parents present</td>\n",
       "      <td>United-States</td>\n",
       "      <td>United-States</td>\n",
       "      <td>Native- Born in the United States</td>\n",
       "      <td>0</td>\n",
       "      <td>0</td>\n",
       "      <td>0</td>\n",
       "      <td>0</td>\n",
       "    </tr>\n",
       "    <tr>\n",
       "      <th>4</th>\n",
       "      <td>10</td>\n",
       "      <td>Not in universe</td>\n",
       "      <td>0</td>\n",
       "      <td>0</td>\n",
       "      <td>Not in universe or children</td>\n",
       "      <td>Not in universe</td>\n",
       "      <td>All other</td>\n",
       "      <td>Not in universe</td>\n",
       "      <td>0</td>\n",
       "      <td>0</td>\n",
       "      <td>0</td>\n",
       "      <td>Not in universe</td>\n",
       "      <td>Not in universe</td>\n",
       "      <td>Child &lt;18 never marr not in subfamily</td>\n",
       "      <td>Child under 18 never married</td>\n",
       "      <td>Yes</td>\n",
       "      <td>0</td>\n",
       "      <td>Both parents present</td>\n",
       "      <td>United-States</td>\n",
       "      <td>United-States</td>\n",
       "      <td>Native- Born in the United States</td>\n",
       "      <td>0</td>\n",
       "      <td>0</td>\n",
       "      <td>0</td>\n",
       "      <td>0</td>\n",
       "    </tr>\n",
       "  </tbody>\n",
       "</table>\n",
       "</div>"
      ],
      "text/plain": [
       "   age                 class_of_worker  detailed_industry_recode  \\\n",
       "0   73                 Not in universe                         0   \n",
       "1   58  Self-employed-not incorporated                         4   \n",
       "2   18                 Not in universe                         0   \n",
       "3    9                 Not in universe                         0   \n",
       "4   10                 Not in universe                         0   \n",
       "\n",
       "   wage_per_hour          major_industry_code  \\\n",
       "0              0  Not in universe or children   \n",
       "1              0                 Construction   \n",
       "2              0  Not in universe or children   \n",
       "3              0  Not in universe or children   \n",
       "4              0  Not in universe or children   \n",
       "\n",
       "                 major_occupation_code hispanic_origin  \\\n",
       "0                      Not in universe       All other   \n",
       "1  Precision production craft & repair       All other   \n",
       "2                      Not in universe       All other   \n",
       "3                      Not in universe       All other   \n",
       "4                      Not in universe       All other   \n",
       "\n",
       "  reason_for_unemployment  capital_gains  capital_losses  \\\n",
       "0         Not in universe              0               0   \n",
       "1         Not in universe              0               0   \n",
       "2         Not in universe              0               0   \n",
       "3         Not in universe              0               0   \n",
       "4         Not in universe              0               0   \n",
       "\n",
       "   dividends_from_stocks region_of_previous_residence  \\\n",
       "0                      0              Not in universe   \n",
       "1                      0                        South   \n",
       "2                      0              Not in universe   \n",
       "3                      0              Not in universe   \n",
       "4                      0              Not in universe   \n",
       "\n",
       "  state_of_previous_residence        detailed_household_and_family_stat  \\\n",
       "0             Not in universe  Other Rel 18+ ever marr not in subfamily   \n",
       "1                    Arkansas                               Householder   \n",
       "2             Not in universe   Child 18+ never marr Not in a subfamily   \n",
       "3             Not in universe     Child <18 never marr not in subfamily   \n",
       "4             Not in universe     Child <18 never marr not in subfamily   \n",
       "\n",
       "  detailed_household_summary_in_household     live_in_this_house_1_year_ago  \\\n",
       "0           Other relative of householder  Not in universe under 1 year old   \n",
       "1                             Householder                                No   \n",
       "2                       Child 18 or older  Not in universe under 1 year old   \n",
       "3            Child under 18 never married                               Yes   \n",
       "4            Child under 18 never married                               Yes   \n",
       "\n",
       "   num_persons_worked_for_employer family_members_under_18  \\\n",
       "0                                0         Not in universe   \n",
       "1                                1         Not in universe   \n",
       "2                                0         Not in universe   \n",
       "3                                0    Both parents present   \n",
       "4                                0    Both parents present   \n",
       "\n",
       "  country_of_birth_mother country_of_birth_self  \\\n",
       "0           United-States         United-States   \n",
       "1           United-States         United-States   \n",
       "2                 Vietnam               Vietnam   \n",
       "3           United-States         United-States   \n",
       "4           United-States         United-States   \n",
       "\n",
       "                          citizenship  own_business_or_self_employed  \\\n",
       "0   Native- Born in the United States                              0   \n",
       "1   Native- Born in the United States                              0   \n",
       "2  Foreign born- Not a citizen of U S                              0   \n",
       "3   Native- Born in the United States                              0   \n",
       "4   Native- Born in the United States                              0   \n",
       "\n",
       "   veterans_benefits  weeks_worked_in_year  income  \n",
       "0                  2                     0       0  \n",
       "1                  2                    52       0  \n",
       "2                  2                     0       0  \n",
       "3                  0                     0       0  \n",
       "4                  0                     0       0  "
      ]
     },
     "execution_count": 109,
     "metadata": {},
     "output_type": "execute_result"
    }
   ],
   "source": [
    "census2.head()"
   ]
  },
  {
   "cell_type": "code",
   "execution_count": 110,
   "metadata": {},
   "outputs": [],
   "source": [
    "# VIZUALISATION"
   ]
  },
  {
   "cell_type": "code",
   "execution_count": 111,
   "metadata": {},
   "outputs": [],
   "source": [
    "import matplotlib.pyplot as plt"
   ]
  },
  {
   "cell_type": "code",
   "execution_count": 113,
   "metadata": {},
   "outputs": [
    {
     "data": {
      "text/plain": [
       "Index(['class_of_worker', 'major_industry_code', 'major_occupation_code',\n",
       "       'hispanic_origin', 'reason_for_unemployment',\n",
       "       'region_of_previous_residence', 'state_of_previous_residence',\n",
       "       'detailed_household_and_family_stat',\n",
       "       'detailed_household_summary_in_household',\n",
       "       'live_in_this_house_1_year_ago', 'family_members_under_18',\n",
       "       'country_of_birth_mother', 'country_of_birth_self', 'citizenship'],\n",
       "      dtype='object')"
      ]
     },
     "execution_count": 113,
     "metadata": {},
     "output_type": "execute_result"
    }
   ],
   "source": [
    "# Categorical Variables\n",
    "cat = census2.select_dtypes('object').columns\n",
    "cat"
   ]
  },
  {
   "cell_type": "code",
   "execution_count": 120,
   "metadata": {},
   "outputs": [
    {
     "data": {
      "image/png": "[encoded data removed]",
      "text/plain": [
       "<Figure size 1152x432 with 1 Axes>"
      ]
     },
     "metadata": {
      "needs_background": "light"
     },
     "output_type": "display_data"
    },
    {
     "data": {
      "image/png": "[encoded data removed]",
      "text/plain": [
       "<Figure size 432x288 with 1 Axes>"
      ]
     },
     "metadata": {
      "needs_background": "light"
     },
     "output_type": "display_data"
    },
    {
     "data": {
      "image/png": "[encoded data removed]",
      "text/plain": [
       "<Figure size 1152x432 with 1 Axes>"
      ]
     },
     "metadata": {
      "needs_background": "light"
     },
     "output_type": "display_data"
    },
    {
     "data": {
      "image/png": "[encoded data removed]",
      "text/plain": [
       "<Figure size 1152x432 with 1 Axes>"
      ]
     },
     "metadata": {
      "needs_background": "light"
     },
     "output_type": "display_data"
    },
    {
     "data": {
      "image/png": "[encoded data removed]",
      "text/plain": [
       "<Figure size 1152x432 with 1 Axes>"
      ]
     },
     "metadata": {
      "needs_background": "light"
     },
     "output_type": "display_data"
    },
    {
     "data": {
      "image/png": "[encoded data removed]",
      "text/plain": [
       "<Figure size 1152x432 with 1 Axes>"
      ]
     },
     "metadata": {
      "needs_background": "light"
     },
     "output_type": "display_data"
    },
    {
     "data": {
      "image/png": "[encoded data removed]",
      "text/plain": [
       "<Figure size 1152x432 with 1 Axes>"
      ]
     },
     "metadata": {
      "needs_background": "light"
     },
     "output_type": "display_data"
    },
    {
     "data": {
      "image/png": "[encoded data removed]",
      "text/plain": [
       "<Figure size 1152x432 with 1 Axes>"
      ]
     },
     "metadata": {
      "needs_background": "light"
     },
     "output_type": "display_data"
    },
    {
     "data": {
      "image/png": "[encoded data removed]",
      "text/plain": [
       "<Figure size 1152x432 with 1 Axes>"
      ]
     },
     "metadata": {
      "needs_background": "light"
     },
     "output_type": "display_data"
    },
    {
     "data": {
      "image/png": "[encoded data removed]",
      "text/plain": [
       "<Figure size 1152x432 with 1 Axes>"
      ]
     },
     "metadata": {
      "needs_background": "light"
     },
     "output_type": "display_data"
    },
    {
     "data": {
      "image/png": "[encoded data removed]",
      "text/plain": [
       "<Figure size 1152x432 with 1 Axes>"
      ]
     },
     "metadata": {
      "needs_background": "light"
     },
     "output_type": "display_data"
    },
    {
     "data": {
      "image/png": "[encoded data removed]",
      "text/plain": [
       "<Figure size 1152x432 with 1 Axes>"
      ]
     },
     "metadata": {
      "needs_background": "light"
     },
     "output_type": "display_data"
    },
    {
     "data": {
      "image/png": "[encoded data removed]",
      "text/plain": [
       "<Figure size 1152x432 with 1 Axes>"
      ]
     },
     "metadata": {
      "needs_background": "light"
     },
     "output_type": "display_data"
    },
    {
     "data": {
      "image/png": "[encoded data removed]",
      "text/plain": [
       "<Figure size 1152x432 with 1 Axes>"
      ]
     },
     "metadata": {
      "needs_background": "light"
     },
     "output_type": "display_data"
    },
    {
     "data": {
      "text/plain": [
       "<Figure size 1152x432 with 0 Axes>"
      ]
     },
     "metadata": {},
     "output_type": "display_data"
    }
   ],
   "source": [
    "cat_cols = census2[['class_of_worker','major_industry_code', 'major_occupation_code', 'hispanic_origin',\\\n",
    "               'reason_for_unemployment',  'region_of_previous_residence','state_of_previous_residence',\\\n",
    "               'detailed_household_and_family_stat','detailed_household_summary_in_household',\\\n",
    "               'live_in_this_house_1_year_ago','family_members_under_18', 'country_of_birth_mother',\\\n",
    "               'country_of_birth_self', 'citizenship']]\n",
    "\n",
    "for i, attribute in enumerate(cat):\n",
    "    plt.figure(figsize=(16,6))\n",
    "    plt.figure(i)\n",
    "    sns.countplot(cat_cols[attribute],hue=census2.income)\n",
    "    plt.xticks(rotation=90)\n",
    "    plt.xlabel('Values')\n",
    "    plt.ylabel('Value - Counts')"
   ]
  },
  {
   "cell_type": "markdown",
   "metadata": {},
   "source": [
    "### FEATURE ENGINEERING"
   ]
  },
  {
   "cell_type": "code",
   "execution_count": 121,
   "metadata": {},
   "outputs": [],
   "source": [
    "census3=census2.copy()"
   ]
  },
  {
   "cell_type": "code",
   "execution_count": 122,
   "metadata": {},
   "outputs": [],
   "source": [
    "from sklearn.preprocessing import LabelEncoder"
   ]
  },
  {
   "cell_type": "code",
   "execution_count": 123,
   "metadata": {},
   "outputs": [],
   "source": [
    "for column in census3:\n",
    "    lb=LabelEncoder()\n",
    "    if census3.dtypes[column]==np.object:\n",
    "         census3[column]=lb.fit_transform(census3[column])"
   ]
  },
  {
   "cell_type": "code",
   "execution_count": 124,
   "metadata": {},
   "outputs": [
    {
     "data": {
      "text/html": [
       "<div>\n",
       "<style scoped>\n",
       "    .dataframe tbody tr th:only-of-type {\n",
       "        vertical-align: middle;\n",
       "    }\n",
       "\n",
       "    .dataframe tbody tr th {\n",
       "        vertical-align: top;\n",
       "    }\n",
       "\n",
       "    .dataframe thead th {\n",
       "        text-align: right;\n",
       "    }\n",
       "</style>\n",
       "<table border=\"1\" class=\"dataframe\">\n",
       "  <thead>\n",
       "    <tr style=\"text-align: right;\">\n",
       "      <th></th>\n",
       "      <th>age</th>\n",
       "      <th>class_of_worker</th>\n",
       "      <th>detailed_industry_recode</th>\n",
       "      <th>wage_per_hour</th>\n",
       "      <th>major_industry_code</th>\n",
       "      <th>major_occupation_code</th>\n",
       "      <th>hispanic_origin</th>\n",
       "      <th>reason_for_unemployment</th>\n",
       "      <th>capital_gains</th>\n",
       "      <th>capital_losses</th>\n",
       "      <th>dividends_from_stocks</th>\n",
       "      <th>region_of_previous_residence</th>\n",
       "      <th>state_of_previous_residence</th>\n",
       "      <th>detailed_household_and_family_stat</th>\n",
       "      <th>detailed_household_summary_in_household</th>\n",
       "      <th>live_in_this_house_1_year_ago</th>\n",
       "      <th>num_persons_worked_for_employer</th>\n",
       "      <th>family_members_under_18</th>\n",
       "      <th>country_of_birth_mother</th>\n",
       "      <th>country_of_birth_self</th>\n",
       "      <th>citizenship</th>\n",
       "      <th>own_business_or_self_employed</th>\n",
       "      <th>veterans_benefits</th>\n",
       "      <th>weeks_worked_in_year</th>\n",
       "      <th>income</th>\n",
       "    </tr>\n",
       "  </thead>\n",
       "  <tbody>\n",
       "    <tr>\n",
       "      <th>0</th>\n",
       "      <td>73</td>\n",
       "      <td>3</td>\n",
       "      <td>0</td>\n",
       "      <td>0</td>\n",
       "      <td>14</td>\n",
       "      <td>6</td>\n",
       "      <td>0</td>\n",
       "      <td>3</td>\n",
       "      <td>0</td>\n",
       "      <td>0</td>\n",
       "      <td>0</td>\n",
       "      <td>3</td>\n",
       "      <td>35</td>\n",
       "      <td>24</td>\n",
       "      <td>6</td>\n",
       "      <td>1</td>\n",
       "      <td>0</td>\n",
       "      <td>4</td>\n",
       "      <td>39</td>\n",
       "      <td>39</td>\n",
       "      <td>4</td>\n",
       "      <td>0</td>\n",
       "      <td>2</td>\n",
       "      <td>0</td>\n",
       "      <td>0</td>\n",
       "    </tr>\n",
       "    <tr>\n",
       "      <th>1</th>\n",
       "      <td>58</td>\n",
       "      <td>6</td>\n",
       "      <td>4</td>\n",
       "      <td>0</td>\n",
       "      <td>4</td>\n",
       "      <td>8</td>\n",
       "      <td>0</td>\n",
       "      <td>3</td>\n",
       "      <td>0</td>\n",
       "      <td>0</td>\n",
       "      <td>0</td>\n",
       "      <td>4</td>\n",
       "      <td>4</td>\n",
       "      <td>20</td>\n",
       "      <td>4</td>\n",
       "      <td>0</td>\n",
       "      <td>1</td>\n",
       "      <td>4</td>\n",
       "      <td>39</td>\n",
       "      <td>39</td>\n",
       "      <td>4</td>\n",
       "      <td>0</td>\n",
       "      <td>2</td>\n",
       "      <td>52</td>\n",
       "      <td>0</td>\n",
       "    </tr>\n",
       "    <tr>\n",
       "      <th>2</th>\n",
       "      <td>18</td>\n",
       "      <td>3</td>\n",
       "      <td>0</td>\n",
       "      <td>0</td>\n",
       "      <td>14</td>\n",
       "      <td>6</td>\n",
       "      <td>0</td>\n",
       "      <td>3</td>\n",
       "      <td>0</td>\n",
       "      <td>0</td>\n",
       "      <td>0</td>\n",
       "      <td>3</td>\n",
       "      <td>35</td>\n",
       "      <td>2</td>\n",
       "      <td>0</td>\n",
       "      <td>1</td>\n",
       "      <td>0</td>\n",
       "      <td>4</td>\n",
       "      <td>40</td>\n",
       "      <td>40</td>\n",
       "      <td>0</td>\n",
       "      <td>0</td>\n",
       "      <td>2</td>\n",
       "      <td>0</td>\n",
       "      <td>0</td>\n",
       "    </tr>\n",
       "    <tr>\n",
       "      <th>3</th>\n",
       "      <td>9</td>\n",
       "      <td>3</td>\n",
       "      <td>0</td>\n",
       "      <td>0</td>\n",
       "      <td>14</td>\n",
       "      <td>6</td>\n",
       "      <td>0</td>\n",
       "      <td>3</td>\n",
       "      <td>0</td>\n",
       "      <td>0</td>\n",
       "      <td>0</td>\n",
       "      <td>3</td>\n",
       "      <td>35</td>\n",
       "      <td>8</td>\n",
       "      <td>2</td>\n",
       "      <td>2</td>\n",
       "      <td>0</td>\n",
       "      <td>0</td>\n",
       "      <td>39</td>\n",
       "      <td>39</td>\n",
       "      <td>4</td>\n",
       "      <td>0</td>\n",
       "      <td>0</td>\n",
       "      <td>0</td>\n",
       "      <td>0</td>\n",
       "    </tr>\n",
       "    <tr>\n",
       "      <th>4</th>\n",
       "      <td>10</td>\n",
       "      <td>3</td>\n",
       "      <td>0</td>\n",
       "      <td>0</td>\n",
       "      <td>14</td>\n",
       "      <td>6</td>\n",
       "      <td>0</td>\n",
       "      <td>3</td>\n",
       "      <td>0</td>\n",
       "      <td>0</td>\n",
       "      <td>0</td>\n",
       "      <td>3</td>\n",
       "      <td>35</td>\n",
       "      <td>8</td>\n",
       "      <td>2</td>\n",
       "      <td>2</td>\n",
       "      <td>0</td>\n",
       "      <td>0</td>\n",
       "      <td>39</td>\n",
       "      <td>39</td>\n",
       "      <td>4</td>\n",
       "      <td>0</td>\n",
       "      <td>0</td>\n",
       "      <td>0</td>\n",
       "      <td>0</td>\n",
       "    </tr>\n",
       "  </tbody>\n",
       "</table>\n",
       "</div>"
      ],
      "text/plain": [
       "   age  class_of_worker  detailed_industry_recode  wage_per_hour  \\\n",
       "0   73                3                         0              0   \n",
       "1   58                6                         4              0   \n",
       "2   18                3                         0              0   \n",
       "3    9                3                         0              0   \n",
       "4   10                3                         0              0   \n",
       "\n",
       "   major_industry_code  major_occupation_code  hispanic_origin  \\\n",
       "0                   14                      6                0   \n",
       "1                    4                      8                0   \n",
       "2                   14                      6                0   \n",
       "3                   14                      6                0   \n",
       "4                   14                      6                0   \n",
       "\n",
       "   reason_for_unemployment  capital_gains  capital_losses  \\\n",
       "0                        3              0               0   \n",
       "1                        3              0               0   \n",
       "2                        3              0               0   \n",
       "3                        3              0               0   \n",
       "4                        3              0               0   \n",
       "\n",
       "   dividends_from_stocks  region_of_previous_residence  \\\n",
       "0                      0                             3   \n",
       "1                      0                             4   \n",
       "2                      0                             3   \n",
       "3                      0                             3   \n",
       "4                      0                             3   \n",
       "\n",
       "   state_of_previous_residence  detailed_household_and_family_stat  \\\n",
       "0                           35                                  24   \n",
       "1                            4                                  20   \n",
       "2                           35                                   2   \n",
       "3                           35                                   8   \n",
       "4                           35                                   8   \n",
       "\n",
       "   detailed_household_summary_in_household  live_in_this_house_1_year_ago  \\\n",
       "0                                        6                              1   \n",
       "1                                        4                              0   \n",
       "2                                        0                              1   \n",
       "3                                        2                              2   \n",
       "4                                        2                              2   \n",
       "\n",
       "   num_persons_worked_for_employer  family_members_under_18  \\\n",
       "0                                0                        4   \n",
       "1                                1                        4   \n",
       "2                                0                        4   \n",
       "3                                0                        0   \n",
       "4                                0                        0   \n",
       "\n",
       "   country_of_birth_mother  country_of_birth_self  citizenship  \\\n",
       "0                       39                     39            4   \n",
       "1                       39                     39            4   \n",
       "2                       40                     40            0   \n",
       "3                       39                     39            4   \n",
       "4                       39                     39            4   \n",
       "\n",
       "   own_business_or_self_employed  veterans_benefits  weeks_worked_in_year  \\\n",
       "0                              0                  2                     0   \n",
       "1                              0                  2                    52   \n",
       "2                              0                  2                     0   \n",
       "3                              0                  0                     0   \n",
       "4                              0                  0                     0   \n",
       "\n",
       "   income  \n",
       "0       0  \n",
       "1       0  \n",
       "2       0  \n",
       "3       0  \n",
       "4       0  "
      ]
     },
     "execution_count": 124,
     "metadata": {},
     "output_type": "execute_result"
    }
   ],
   "source": [
    "census3.head()"
   ]
  },
  {
   "cell_type": "code",
   "execution_count": 125,
   "metadata": {},
   "outputs": [],
   "source": [
    "from sklearn.preprocessing import StandardScaler"
   ]
  },
  {
   "cell_type": "code",
   "execution_count": 126,
   "metadata": {},
   "outputs": [
    {
     "data": {
      "text/plain": [
       "Index(['age', 'class_of_worker', 'detailed_industry_recode', 'wage_per_hour',\n",
       "       'major_industry_code', 'major_occupation_code', 'hispanic_origin',\n",
       "       'reason_for_unemployment', 'capital_gains', 'capital_losses',\n",
       "       'dividends_from_stocks', 'region_of_previous_residence',\n",
       "       'state_of_previous_residence', 'detailed_household_and_family_stat',\n",
       "       'detailed_household_summary_in_household',\n",
       "       'live_in_this_house_1_year_ago', 'num_persons_worked_for_employer',\n",
       "       'family_members_under_18', 'country_of_birth_mother',\n",
       "       'country_of_birth_self', 'citizenship', 'own_business_or_self_employed',\n",
       "       'veterans_benefits', 'weeks_worked_in_year', 'income'],\n",
       "      dtype='object')"
      ]
     },
     "execution_count": 126,
     "metadata": {},
     "output_type": "execute_result"
    }
   ],
   "source": [
    "census3.columns"
   ]
  },
  {
   "cell_type": "code",
   "execution_count": 127,
   "metadata": {},
   "outputs": [],
   "source": [
    "sc = StandardScaler()\n",
    "census3 = pd.DataFrame(sc.fit_transform(census3), columns = census3.columns)"
   ]
  },
  {
   "cell_type": "code",
   "execution_count": 128,
   "metadata": {},
   "outputs": [
    {
     "data": {
      "text/html": [
       "<div>\n",
       "<style scoped>\n",
       "    .dataframe tbody tr th:only-of-type {\n",
       "        vertical-align: middle;\n",
       "    }\n",
       "\n",
       "    .dataframe tbody tr th {\n",
       "        vertical-align: top;\n",
       "    }\n",
       "\n",
       "    .dataframe thead th {\n",
       "        text-align: right;\n",
       "    }\n",
       "</style>\n",
       "<table border=\"1\" class=\"dataframe\">\n",
       "  <thead>\n",
       "    <tr style=\"text-align: right;\">\n",
       "      <th></th>\n",
       "      <th>age</th>\n",
       "      <th>class_of_worker</th>\n",
       "      <th>detailed_industry_recode</th>\n",
       "      <th>wage_per_hour</th>\n",
       "      <th>major_industry_code</th>\n",
       "      <th>major_occupation_code</th>\n",
       "      <th>hispanic_origin</th>\n",
       "      <th>reason_for_unemployment</th>\n",
       "      <th>capital_gains</th>\n",
       "      <th>capital_losses</th>\n",
       "      <th>dividends_from_stocks</th>\n",
       "      <th>region_of_previous_residence</th>\n",
       "      <th>state_of_previous_residence</th>\n",
       "      <th>detailed_household_and_family_stat</th>\n",
       "      <th>detailed_household_summary_in_household</th>\n",
       "      <th>live_in_this_house_1_year_ago</th>\n",
       "      <th>num_persons_worked_for_employer</th>\n",
       "      <th>family_members_under_18</th>\n",
       "      <th>country_of_birth_mother</th>\n",
       "      <th>country_of_birth_self</th>\n",
       "      <th>citizenship</th>\n",
       "      <th>own_business_or_self_employed</th>\n",
       "      <th>veterans_benefits</th>\n",
       "      <th>weeks_worked_in_year</th>\n",
       "      <th>income</th>\n",
       "    </tr>\n",
       "  </thead>\n",
       "  <tbody>\n",
       "    <tr>\n",
       "      <th>0</th>\n",
       "      <td>1.725879</td>\n",
       "      <td>-0.439146</td>\n",
       "      <td>-0.849740</td>\n",
       "      <td>-0.201629</td>\n",
       "      <td>0.207994</td>\n",
       "      <td>-0.097301</td>\n",
       "      <td>-0.363192</td>\n",
       "      <td>-0.03007</td>\n",
       "      <td>-0.092542</td>\n",
       "      <td>-0.137236</td>\n",
       "      <td>-0.099553</td>\n",
       "      <td>-0.017198</td>\n",
       "      <td>0.176125</td>\n",
       "      <td>0.344851</td>\n",
       "      <td>0.982564</td>\n",
       "      <td>-0.54229</td>\n",
       "      <td>-0.827096</td>\n",
       "      <td>0.589025</td>\n",
       "      <td>0.381401</td>\n",
       "      <td>0.280726</td>\n",
       "      <td>0.343561</td>\n",
       "      <td>-0.316851</td>\n",
       "      <td>0.569799</td>\n",
       "      <td>-0.949346</td>\n",
       "      <td>-0.257224</td>\n",
       "    </tr>\n",
       "    <tr>\n",
       "      <th>1</th>\n",
       "      <td>1.053560</td>\n",
       "      <td>2.275109</td>\n",
       "      <td>-0.628343</td>\n",
       "      <td>-0.201629</td>\n",
       "      <td>-1.884785</td>\n",
       "      <td>0.546914</td>\n",
       "      <td>-0.363192</td>\n",
       "      <td>-0.03007</td>\n",
       "      <td>-0.092542</td>\n",
       "      <td>-0.137236</td>\n",
       "      <td>-0.099553</td>\n",
       "      <td>2.138205</td>\n",
       "      <td>-5.720387</td>\n",
       "      <td>-0.005216</td>\n",
       "      <td>0.016251</td>\n",
       "      <td>-2.16289</td>\n",
       "      <td>-0.404284</td>\n",
       "      <td>0.589025</td>\n",
       "      <td>0.381401</td>\n",
       "      <td>0.280726</td>\n",
       "      <td>0.343561</td>\n",
       "      <td>-0.316851</td>\n",
       "      <td>0.569799</td>\n",
       "      <td>1.180804</td>\n",
       "      <td>-0.257224</td>\n",
       "    </tr>\n",
       "    <tr>\n",
       "      <th>2</th>\n",
       "      <td>-0.739291</td>\n",
       "      <td>-0.439146</td>\n",
       "      <td>-0.849740</td>\n",
       "      <td>-0.201629</td>\n",
       "      <td>0.207994</td>\n",
       "      <td>-0.097301</td>\n",
       "      <td>-0.363192</td>\n",
       "      <td>-0.03007</td>\n",
       "      <td>-0.092542</td>\n",
       "      <td>-0.137236</td>\n",
       "      <td>-0.099553</td>\n",
       "      <td>-0.017198</td>\n",
       "      <td>0.176125</td>\n",
       "      <td>-1.580516</td>\n",
       "      <td>-1.916375</td>\n",
       "      <td>-0.54229</td>\n",
       "      <td>-0.827096</td>\n",
       "      <td>0.589025</td>\n",
       "      <td>0.501497</td>\n",
       "      <td>0.432282</td>\n",
       "      <td>-3.254776</td>\n",
       "      <td>-0.316851</td>\n",
       "      <td>0.569799</td>\n",
       "      <td>-0.949346</td>\n",
       "      <td>-0.257224</td>\n",
       "    </tr>\n",
       "    <tr>\n",
       "      <th>3</th>\n",
       "      <td>-1.142682</td>\n",
       "      <td>-0.439146</td>\n",
       "      <td>-0.849740</td>\n",
       "      <td>-0.201629</td>\n",
       "      <td>0.207994</td>\n",
       "      <td>-0.097301</td>\n",
       "      <td>-0.363192</td>\n",
       "      <td>-0.03007</td>\n",
       "      <td>-0.092542</td>\n",
       "      <td>-0.137236</td>\n",
       "      <td>-0.099553</td>\n",
       "      <td>-0.017198</td>\n",
       "      <td>0.176125</td>\n",
       "      <td>-1.055416</td>\n",
       "      <td>-0.950062</td>\n",
       "      <td>1.07831</td>\n",
       "      <td>-0.827096</td>\n",
       "      <td>-1.901181</td>\n",
       "      <td>0.381401</td>\n",
       "      <td>0.280726</td>\n",
       "      <td>0.343561</td>\n",
       "      <td>-0.316851</td>\n",
       "      <td>-1.779077</td>\n",
       "      <td>-0.949346</td>\n",
       "      <td>-0.257224</td>\n",
       "    </tr>\n",
       "    <tr>\n",
       "      <th>4</th>\n",
       "      <td>-1.097861</td>\n",
       "      <td>-0.439146</td>\n",
       "      <td>-0.849740</td>\n",
       "      <td>-0.201629</td>\n",
       "      <td>0.207994</td>\n",
       "      <td>-0.097301</td>\n",
       "      <td>-0.363192</td>\n",
       "      <td>-0.03007</td>\n",
       "      <td>-0.092542</td>\n",
       "      <td>-0.137236</td>\n",
       "      <td>-0.099553</td>\n",
       "      <td>-0.017198</td>\n",
       "      <td>0.176125</td>\n",
       "      <td>-1.055416</td>\n",
       "      <td>-0.950062</td>\n",
       "      <td>1.07831</td>\n",
       "      <td>-0.827096</td>\n",
       "      <td>-1.901181</td>\n",
       "      <td>0.381401</td>\n",
       "      <td>0.280726</td>\n",
       "      <td>0.343561</td>\n",
       "      <td>-0.316851</td>\n",
       "      <td>-1.779077</td>\n",
       "      <td>-0.949346</td>\n",
       "      <td>-0.257224</td>\n",
       "    </tr>\n",
       "  </tbody>\n",
       "</table>\n",
       "</div>"
      ],
      "text/plain": [
       "        age  class_of_worker  detailed_industry_recode  wage_per_hour  \\\n",
       "0  1.725879        -0.439146                 -0.849740      -0.201629   \n",
       "1  1.053560         2.275109                 -0.628343      -0.201629   \n",
       "2 -0.739291        -0.439146                 -0.849740      -0.201629   \n",
       "3 -1.142682        -0.439146                 -0.849740      -0.201629   \n",
       "4 -1.097861        -0.439146                 -0.849740      -0.201629   \n",
       "\n",
       "   major_industry_code  major_occupation_code  hispanic_origin  \\\n",
       "0             0.207994              -0.097301        -0.363192   \n",
       "1            -1.884785               0.546914        -0.363192   \n",
       "2             0.207994              -0.097301        -0.363192   \n",
       "3             0.207994              -0.097301        -0.363192   \n",
       "4             0.207994              -0.097301        -0.363192   \n",
       "\n",
       "   reason_for_unemployment  capital_gains  capital_losses  \\\n",
       "0                 -0.03007      -0.092542       -0.137236   \n",
       "1                 -0.03007      -0.092542       -0.137236   \n",
       "2                 -0.03007      -0.092542       -0.137236   \n",
       "3                 -0.03007      -0.092542       -0.137236   \n",
       "4                 -0.03007      -0.092542       -0.137236   \n",
       "\n",
       "   dividends_from_stocks  region_of_previous_residence  \\\n",
       "0              -0.099553                     -0.017198   \n",
       "1              -0.099553                      2.138205   \n",
       "2              -0.099553                     -0.017198   \n",
       "3              -0.099553                     -0.017198   \n",
       "4              -0.099553                     -0.017198   \n",
       "\n",
       "   state_of_previous_residence  detailed_household_and_family_stat  \\\n",
       "0                     0.176125                            0.344851   \n",
       "1                    -5.720387                           -0.005216   \n",
       "2                     0.176125                           -1.580516   \n",
       "3                     0.176125                           -1.055416   \n",
       "4                     0.176125                           -1.055416   \n",
       "\n",
       "   detailed_household_summary_in_household  live_in_this_house_1_year_ago  \\\n",
       "0                                 0.982564                       -0.54229   \n",
       "1                                 0.016251                       -2.16289   \n",
       "2                                -1.916375                       -0.54229   \n",
       "3                                -0.950062                        1.07831   \n",
       "4                                -0.950062                        1.07831   \n",
       "\n",
       "   num_persons_worked_for_employer  family_members_under_18  \\\n",
       "0                        -0.827096                 0.589025   \n",
       "1                        -0.404284                 0.589025   \n",
       "2                        -0.827096                 0.589025   \n",
       "3                        -0.827096                -1.901181   \n",
       "4                        -0.827096                -1.901181   \n",
       "\n",
       "   country_of_birth_mother  country_of_birth_self  citizenship  \\\n",
       "0                 0.381401               0.280726     0.343561   \n",
       "1                 0.381401               0.280726     0.343561   \n",
       "2                 0.501497               0.432282    -3.254776   \n",
       "3                 0.381401               0.280726     0.343561   \n",
       "4                 0.381401               0.280726     0.343561   \n",
       "\n",
       "   own_business_or_self_employed  veterans_benefits  weeks_worked_in_year  \\\n",
       "0                      -0.316851           0.569799             -0.949346   \n",
       "1                      -0.316851           0.569799              1.180804   \n",
       "2                      -0.316851           0.569799             -0.949346   \n",
       "3                      -0.316851          -1.779077             -0.949346   \n",
       "4                      -0.316851          -1.779077             -0.949346   \n",
       "\n",
       "     income  \n",
       "0 -0.257224  \n",
       "1 -0.257224  \n",
       "2 -0.257224  \n",
       "3 -0.257224  \n",
       "4 -0.257224  "
      ]
     },
     "execution_count": 128,
     "metadata": {},
     "output_type": "execute_result"
    }
   ],
   "source": [
    "census3.head()"
   ]
  },
  {
   "cell_type": "code",
   "execution_count": 129,
   "metadata": {
    "scrolled": true
   },
   "outputs": [
    {
     "data": {
      "text/html": [
       "<div>\n",
       "<style scoped>\n",
       "    .dataframe tbody tr th:only-of-type {\n",
       "        vertical-align: middle;\n",
       "    }\n",
       "\n",
       "    .dataframe tbody tr th {\n",
       "        vertical-align: top;\n",
       "    }\n",
       "\n",
       "    .dataframe thead th {\n",
       "        text-align: right;\n",
       "    }\n",
       "</style>\n",
       "<table border=\"1\" class=\"dataframe\">\n",
       "  <thead>\n",
       "    <tr style=\"text-align: right;\">\n",
       "      <th></th>\n",
       "      <th>age</th>\n",
       "      <th>class_of_worker</th>\n",
       "      <th>detailed_industry_recode</th>\n",
       "      <th>wage_per_hour</th>\n",
       "      <th>major_industry_code</th>\n",
       "      <th>major_occupation_code</th>\n",
       "      <th>hispanic_origin</th>\n",
       "      <th>reason_for_unemployment</th>\n",
       "      <th>capital_gains</th>\n",
       "      <th>capital_losses</th>\n",
       "      <th>dividends_from_stocks</th>\n",
       "      <th>region_of_previous_residence</th>\n",
       "      <th>state_of_previous_residence</th>\n",
       "      <th>detailed_household_and_family_stat</th>\n",
       "      <th>detailed_household_summary_in_household</th>\n",
       "      <th>live_in_this_house_1_year_ago</th>\n",
       "      <th>num_persons_worked_for_employer</th>\n",
       "      <th>family_members_under_18</th>\n",
       "      <th>country_of_birth_mother</th>\n",
       "      <th>country_of_birth_self</th>\n",
       "      <th>citizenship</th>\n",
       "      <th>own_business_or_self_employed</th>\n",
       "      <th>veterans_benefits</th>\n",
       "      <th>weeks_worked_in_year</th>\n",
       "      <th>income</th>\n",
       "    </tr>\n",
       "  </thead>\n",
       "  <tbody>\n",
       "    <tr>\n",
       "      <th>count</th>\n",
       "      <td>1.995230e+05</td>\n",
       "      <td>1.995230e+05</td>\n",
       "      <td>1.995230e+05</td>\n",
       "      <td>1.995230e+05</td>\n",
       "      <td>1.995230e+05</td>\n",
       "      <td>1.995230e+05</td>\n",
       "      <td>1.995230e+05</td>\n",
       "      <td>1.995230e+05</td>\n",
       "      <td>1.995230e+05</td>\n",
       "      <td>1.995230e+05</td>\n",
       "      <td>1.995230e+05</td>\n",
       "      <td>1.995230e+05</td>\n",
       "      <td>1.995230e+05</td>\n",
       "      <td>1.995230e+05</td>\n",
       "      <td>1.995230e+05</td>\n",
       "      <td>1.995230e+05</td>\n",
       "      <td>1.995230e+05</td>\n",
       "      <td>1.995230e+05</td>\n",
       "      <td>1.995230e+05</td>\n",
       "      <td>1.995230e+05</td>\n",
       "      <td>1.995230e+05</td>\n",
       "      <td>1.995230e+05</td>\n",
       "      <td>1.995230e+05</td>\n",
       "      <td>1.995230e+05</td>\n",
       "      <td>1.995230e+05</td>\n",
       "    </tr>\n",
       "    <tr>\n",
       "      <th>mean</th>\n",
       "      <td>2.350059e-16</td>\n",
       "      <td>-8.031410e-16</td>\n",
       "      <td>-5.641259e-15</td>\n",
       "      <td>-3.944554e-15</td>\n",
       "      <td>2.270409e-18</td>\n",
       "      <td>-2.706456e-15</td>\n",
       "      <td>-6.789366e-15</td>\n",
       "      <td>3.698975e-15</td>\n",
       "      <td>3.079189e-15</td>\n",
       "      <td>2.825678e-15</td>\n",
       "      <td>-3.971290e-15</td>\n",
       "      <td>6.160959e-15</td>\n",
       "      <td>-1.447047e-15</td>\n",
       "      <td>1.325340e-15</td>\n",
       "      <td>1.095728e-15</td>\n",
       "      <td>-9.170821e-16</td>\n",
       "      <td>4.013210e-15</td>\n",
       "      <td>-2.253684e-15</td>\n",
       "      <td>-1.292765e-15</td>\n",
       "      <td>-4.200104e-15</td>\n",
       "      <td>3.624229e-15</td>\n",
       "      <td>2.873737e-15</td>\n",
       "      <td>5.081219e-15</td>\n",
       "      <td>-2.645495e-15</td>\n",
       "      <td>-1.357198e-15</td>\n",
       "    </tr>\n",
       "    <tr>\n",
       "      <th>std</th>\n",
       "      <td>1.000003e+00</td>\n",
       "      <td>1.000003e+00</td>\n",
       "      <td>1.000003e+00</td>\n",
       "      <td>1.000003e+00</td>\n",
       "      <td>1.000003e+00</td>\n",
       "      <td>1.000003e+00</td>\n",
       "      <td>1.000003e+00</td>\n",
       "      <td>1.000003e+00</td>\n",
       "      <td>1.000003e+00</td>\n",
       "      <td>1.000003e+00</td>\n",
       "      <td>1.000003e+00</td>\n",
       "      <td>1.000003e+00</td>\n",
       "      <td>1.000003e+00</td>\n",
       "      <td>1.000003e+00</td>\n",
       "      <td>1.000003e+00</td>\n",
       "      <td>1.000003e+00</td>\n",
       "      <td>1.000003e+00</td>\n",
       "      <td>1.000003e+00</td>\n",
       "      <td>1.000003e+00</td>\n",
       "      <td>1.000003e+00</td>\n",
       "      <td>1.000003e+00</td>\n",
       "      <td>1.000003e+00</td>\n",
       "      <td>1.000003e+00</td>\n",
       "      <td>1.000003e+00</td>\n",
       "      <td>1.000003e+00</td>\n",
       "    </tr>\n",
       "    <tr>\n",
       "      <th>min</th>\n",
       "      <td>-1.546074e+00</td>\n",
       "      <td>-3.153402e+00</td>\n",
       "      <td>-8.497398e-01</td>\n",
       "      <td>-2.016288e-01</td>\n",
       "      <td>-2.721897e+00</td>\n",
       "      <td>-2.029946e+00</td>\n",
       "      <td>-3.631922e-01</td>\n",
       "      <td>-9.548254e+00</td>\n",
       "      <td>-9.254224e-02</td>\n",
       "      <td>-1.372356e-01</td>\n",
       "      <td>-9.955329e-02</td>\n",
       "      <td>-6.483408e+00</td>\n",
       "      <td>-6.481227e+00</td>\n",
       "      <td>-1.755550e+00</td>\n",
       "      <td>-1.916375e+00</td>\n",
       "      <td>-2.162890e+00</td>\n",
       "      <td>-8.270958e-01</td>\n",
       "      <td>-1.901181e+00</td>\n",
       "      <td>-4.302348e+00</td>\n",
       "      <td>-5.629946e+00</td>\n",
       "      <td>-3.254776e+00</td>\n",
       "      <td>-3.168514e-01</td>\n",
       "      <td>-1.779077e+00</td>\n",
       "      <td>-9.493463e-01</td>\n",
       "      <td>-2.572237e-01</td>\n",
       "    </tr>\n",
       "    <tr>\n",
       "      <th>25%</th>\n",
       "      <td>-8.737546e-01</td>\n",
       "      <td>-4.391463e-01</td>\n",
       "      <td>-8.497398e-01</td>\n",
       "      <td>-2.016288e-01</td>\n",
       "      <td>-4.198397e-01</td>\n",
       "      <td>-9.730078e-02</td>\n",
       "      <td>-3.631922e-01</td>\n",
       "      <td>-3.006986e-02</td>\n",
       "      <td>-9.254224e-02</td>\n",
       "      <td>-1.372356e-01</td>\n",
       "      <td>-9.955329e-02</td>\n",
       "      <td>-1.719803e-02</td>\n",
       "      <td>1.761247e-01</td>\n",
       "      <td>-1.055416e+00</td>\n",
       "      <td>-9.500618e-01</td>\n",
       "      <td>-5.422900e-01</td>\n",
       "      <td>-8.270958e-01</td>\n",
       "      <td>-6.560782e-01</td>\n",
       "      <td>3.814013e-01</td>\n",
       "      <td>2.807263e-01</td>\n",
       "      <td>3.435610e-01</td>\n",
       "      <td>-3.168514e-01</td>\n",
       "      <td>5.697986e-01</td>\n",
       "      <td>-9.493463e-01</td>\n",
       "      <td>-2.572237e-01</td>\n",
       "    </tr>\n",
       "    <tr>\n",
       "      <th>50%</th>\n",
       "      <td>-6.697187e-02</td>\n",
       "      <td>-4.391463e-01</td>\n",
       "      <td>-8.497398e-01</td>\n",
       "      <td>-2.016288e-01</td>\n",
       "      <td>2.079941e-01</td>\n",
       "      <td>-9.730078e-02</td>\n",
       "      <td>-3.631922e-01</td>\n",
       "      <td>-3.006986e-02</td>\n",
       "      <td>-9.254224e-02</td>\n",
       "      <td>-1.372356e-01</td>\n",
       "      <td>-9.955329e-02</td>\n",
       "      <td>-1.719803e-02</td>\n",
       "      <td>1.761247e-01</td>\n",
       "      <td>-5.215745e-03</td>\n",
       "      <td>1.625107e-02</td>\n",
       "      <td>-5.422900e-01</td>\n",
       "      <td>-4.042842e-01</td>\n",
       "      <td>5.890251e-01</td>\n",
       "      <td>3.814013e-01</td>\n",
       "      <td>2.807263e-01</td>\n",
       "      <td>3.435610e-01</td>\n",
       "      <td>-3.168514e-01</td>\n",
       "      <td>5.697986e-01</td>\n",
       "      <td>-6.216309e-01</td>\n",
       "      <td>-2.572237e-01</td>\n",
       "    </tr>\n",
       "    <tr>\n",
       "      <th>75%</th>\n",
       "      <td>6.949896e-01</td>\n",
       "      <td>4.656055e-01</td>\n",
       "      <td>9.767863e-01</td>\n",
       "      <td>-2.016288e-01</td>\n",
       "      <td>2.079941e-01</td>\n",
       "      <td>2.248068e-01</td>\n",
       "      <td>-3.631922e-01</td>\n",
       "      <td>-3.006986e-02</td>\n",
       "      <td>-9.254224e-02</td>\n",
       "      <td>-1.372356e-01</td>\n",
       "      <td>-9.955329e-02</td>\n",
       "      <td>-1.719803e-02</td>\n",
       "      <td>1.761247e-01</td>\n",
       "      <td>6.074012e-01</td>\n",
       "      <td>9.825640e-01</td>\n",
       "      <td>1.078310e+00</td>\n",
       "      <td>8.641506e-01</td>\n",
       "      <td>5.890251e-01</td>\n",
       "      <td>3.814013e-01</td>\n",
       "      <td>2.807263e-01</td>\n",
       "      <td>3.435610e-01</td>\n",
       "      <td>-3.168514e-01</td>\n",
       "      <td>5.697986e-01</td>\n",
       "      <td>1.180804e+00</td>\n",
       "      <td>-2.572237e-01</td>\n",
       "    </tr>\n",
       "    <tr>\n",
       "      <th>max</th>\n",
       "      <td>2.487840e+00</td>\n",
       "      <td>4.084613e+00</td>\n",
       "      <td>1.973073e+00</td>\n",
       "      <td>3.617216e+01</td>\n",
       "      <td>2.091496e+00</td>\n",
       "      <td>2.479560e+00</td>\n",
       "      <td>3.997395e+00</td>\n",
       "      <td>6.315386e+00</td>\n",
       "      <td>2.119508e+01</td>\n",
       "      <td>1.681044e+01</td>\n",
       "      <td>5.029914e+01</td>\n",
       "      <td>4.293609e+00</td>\n",
       "      <td>2.839065e+00</td>\n",
       "      <td>1.482568e+00</td>\n",
       "      <td>1.465720e+00</td>\n",
       "      <td>1.078310e+00</td>\n",
       "      <td>1.709774e+00</td>\n",
       "      <td>5.890251e-01</td>\n",
       "      <td>6.215935e-01</td>\n",
       "      <td>5.838376e-01</td>\n",
       "      <td>3.435610e-01</td>\n",
       "      <td>3.295258e+00</td>\n",
       "      <td>5.697986e-01</td>\n",
       "      <td>1.180804e+00</td>\n",
       "      <td>3.887667e+00</td>\n",
       "    </tr>\n",
       "  </tbody>\n",
       "</table>\n",
       "</div>"
      ],
      "text/plain": [
       "                age  class_of_worker  detailed_industry_recode  wage_per_hour  \\\n",
       "count  1.995230e+05     1.995230e+05              1.995230e+05   1.995230e+05   \n",
       "mean   2.350059e-16    -8.031410e-16             -5.641259e-15  -3.944554e-15   \n",
       "std    1.000003e+00     1.000003e+00              1.000003e+00   1.000003e+00   \n",
       "min   -1.546074e+00    -3.153402e+00             -8.497398e-01  -2.016288e-01   \n",
       "25%   -8.737546e-01    -4.391463e-01             -8.497398e-01  -2.016288e-01   \n",
       "50%   -6.697187e-02    -4.391463e-01             -8.497398e-01  -2.016288e-01   \n",
       "75%    6.949896e-01     4.656055e-01              9.767863e-01  -2.016288e-01   \n",
       "max    2.487840e+00     4.084613e+00              1.973073e+00   3.617216e+01   \n",
       "\n",
       "       major_industry_code  major_occupation_code  hispanic_origin  \\\n",
       "count         1.995230e+05           1.995230e+05     1.995230e+05   \n",
       "mean          2.270409e-18          -2.706456e-15    -6.789366e-15   \n",
       "std           1.000003e+00           1.000003e+00     1.000003e+00   \n",
       "min          -2.721897e+00          -2.029946e+00    -3.631922e-01   \n",
       "25%          -4.198397e-01          -9.730078e-02    -3.631922e-01   \n",
       "50%           2.079941e-01          -9.730078e-02    -3.631922e-01   \n",
       "75%           2.079941e-01           2.248068e-01    -3.631922e-01   \n",
       "max           2.091496e+00           2.479560e+00     3.997395e+00   \n",
       "\n",
       "       reason_for_unemployment  capital_gains  capital_losses  \\\n",
       "count             1.995230e+05   1.995230e+05    1.995230e+05   \n",
       "mean              3.698975e-15   3.079189e-15    2.825678e-15   \n",
       "std               1.000003e+00   1.000003e+00    1.000003e+00   \n",
       "min              -9.548254e+00  -9.254224e-02   -1.372356e-01   \n",
       "25%              -3.006986e-02  -9.254224e-02   -1.372356e-01   \n",
       "50%              -3.006986e-02  -9.254224e-02   -1.372356e-01   \n",
       "75%              -3.006986e-02  -9.254224e-02   -1.372356e-01   \n",
       "max               6.315386e+00   2.119508e+01    1.681044e+01   \n",
       "\n",
       "       dividends_from_stocks  region_of_previous_residence  \\\n",
       "count           1.995230e+05                  1.995230e+05   \n",
       "mean           -3.971290e-15                  6.160959e-15   \n",
       "std             1.000003e+00                  1.000003e+00   \n",
       "min            -9.955329e-02                 -6.483408e+00   \n",
       "25%            -9.955329e-02                 -1.719803e-02   \n",
       "50%            -9.955329e-02                 -1.719803e-02   \n",
       "75%            -9.955329e-02                 -1.719803e-02   \n",
       "max             5.029914e+01                  4.293609e+00   \n",
       "\n",
       "       state_of_previous_residence  detailed_household_and_family_stat  \\\n",
       "count                 1.995230e+05                        1.995230e+05   \n",
       "mean                 -1.447047e-15                        1.325340e-15   \n",
       "std                   1.000003e+00                        1.000003e+00   \n",
       "min                  -6.481227e+00                       -1.755550e+00   \n",
       "25%                   1.761247e-01                       -1.055416e+00   \n",
       "50%                   1.761247e-01                       -5.215745e-03   \n",
       "75%                   1.761247e-01                        6.074012e-01   \n",
       "max                   2.839065e+00                        1.482568e+00   \n",
       "\n",
       "       detailed_household_summary_in_household  live_in_this_house_1_year_ago  \\\n",
       "count                             1.995230e+05                   1.995230e+05   \n",
       "mean                              1.095728e-15                  -9.170821e-16   \n",
       "std                               1.000003e+00                   1.000003e+00   \n",
       "min                              -1.916375e+00                  -2.162890e+00   \n",
       "25%                              -9.500618e-01                  -5.422900e-01   \n",
       "50%                               1.625107e-02                  -5.422900e-01   \n",
       "75%                               9.825640e-01                   1.078310e+00   \n",
       "max                               1.465720e+00                   1.078310e+00   \n",
       "\n",
       "       num_persons_worked_for_employer  family_members_under_18  \\\n",
       "count                     1.995230e+05             1.995230e+05   \n",
       "mean                      4.013210e-15            -2.253684e-15   \n",
       "std                       1.000003e+00             1.000003e+00   \n",
       "min                      -8.270958e-01            -1.901181e+00   \n",
       "25%                      -8.270958e-01            -6.560782e-01   \n",
       "50%                      -4.042842e-01             5.890251e-01   \n",
       "75%                       8.641506e-01             5.890251e-01   \n",
       "max                       1.709774e+00             5.890251e-01   \n",
       "\n",
       "       country_of_birth_mother  country_of_birth_self   citizenship  \\\n",
       "count             1.995230e+05           1.995230e+05  1.995230e+05   \n",
       "mean             -1.292765e-15          -4.200104e-15  3.624229e-15   \n",
       "std               1.000003e+00           1.000003e+00  1.000003e+00   \n",
       "min              -4.302348e+00          -5.629946e+00 -3.254776e+00   \n",
       "25%               3.814013e-01           2.807263e-01  3.435610e-01   \n",
       "50%               3.814013e-01           2.807263e-01  3.435610e-01   \n",
       "75%               3.814013e-01           2.807263e-01  3.435610e-01   \n",
       "max               6.215935e-01           5.838376e-01  3.435610e-01   \n",
       "\n",
       "       own_business_or_self_employed  veterans_benefits  weeks_worked_in_year  \\\n",
       "count                   1.995230e+05       1.995230e+05          1.995230e+05   \n",
       "mean                    2.873737e-15       5.081219e-15         -2.645495e-15   \n",
       "std                     1.000003e+00       1.000003e+00          1.000003e+00   \n",
       "min                    -3.168514e-01      -1.779077e+00         -9.493463e-01   \n",
       "25%                    -3.168514e-01       5.697986e-01         -9.493463e-01   \n",
       "50%                    -3.168514e-01       5.697986e-01         -6.216309e-01   \n",
       "75%                    -3.168514e-01       5.697986e-01          1.180804e+00   \n",
       "max                     3.295258e+00       5.697986e-01          1.180804e+00   \n",
       "\n",
       "             income  \n",
       "count  1.995230e+05  \n",
       "mean  -1.357198e-15  \n",
       "std    1.000003e+00  \n",
       "min   -2.572237e-01  \n",
       "25%   -2.572237e-01  \n",
       "50%   -2.572237e-01  \n",
       "75%   -2.572237e-01  \n",
       "max    3.887667e+00  "
      ]
     },
     "execution_count": 129,
     "metadata": {},
     "output_type": "execute_result"
    }
   ],
   "source": [
    "census3.describe()"
   ]
  },
  {
   "cell_type": "code",
   "execution_count": 652,
   "metadata": {},
   "outputs": [],
   "source": [
    "# MODELLING"
   ]
  },
  {
   "cell_type": "code",
   "execution_count": null,
   "metadata": {},
   "outputs": [],
   "source": []
  }
 ],
 "metadata": {
  "kernelspec": {
   "display_name": "Python 3",
   "language": "python",
   "name": "python3"
  },
  "language_info": {
   "codemirror_mode": {
    "name": "ipython",
    "version": 3
   },
   "file_extension": ".py",
   "mimetype": "text/x-python",
   "name": "python",
   "nbconvert_exporter": "python",
   "pygments_lexer": "ipython3",
   "version": "3.7.3"
  },
  "toc": {
   "base_numbering": 1,
   "nav_menu": {},
   "number_sections": true,
   "sideBar": true,
   "skip_h1_title": false,
   "title_cell": "Table of Contents",
   "title_sidebar": "Contents",
   "toc_cell": false,
   "toc_position": {},
   "toc_section_display": true,
   "toc_window_display": false
  }
 },
 "nbformat": 4,
 "nbformat_minor": 2
}
